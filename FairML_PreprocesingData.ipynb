{
  "nbformat": 4,
  "nbformat_minor": 0,
  "metadata": {
    "kernelspec": {
      "name": "python3",
      "display_name": "Python 3"
    },
    "language_info": {
      "codemirror_mode": {
        "name": "ipython",
        "version": 3
      },
      "file_extension": ".py",
      "mimetype": "text/x-python",
      "name": "python",
      "nbconvert_exporter": "python",
      "pygments_lexer": "ipython3",
      "version": "3.6.8"
    },
    "colab": {
      "name": "FairML_PreprocesingData.ipynb",
      "provenance": [],
      "collapsed_sections": [
        "pnLz-R38azK1",
        "iL33FbMNazK7",
        "3gEva5pJazLG",
        "PLZAJ59MazMX"
      ],
      "include_colab_link": true
    },
    "accelerator": "GPU"
  },
  "cells": [
    {
      "cell_type": "markdown",
      "metadata": {
        "id": "view-in-github",
        "colab_type": "text"
      },
      "source": [
        "<a href=\"https://colab.research.google.com/github/jbaquerot/Master-Data-Science-UV-2019/blob/master/FairML_PreprocesingData.ipynb\" target=\"_parent\"><img src=\"https://colab.research.google.com/assets/colab-badge.svg\" alt=\"Open In Colab\"/></a>"
      ]
    },
    {
      "cell_type": "markdown",
      "metadata": {
        "id": "a6Iv0VOQazKS",
        "colab_type": "text"
      },
      "source": [
        "# LUCA Challenge, GMV BDA team proposal"
      ]
    },
    {
      "cell_type": "markdown",
      "metadata": {
        "id": "stVlKn8iazKT",
        "colab_type": "text"
      },
      "source": [
        "## Analysis and mitigation of bias in machine learning"
      ]
    },
    {
      "cell_type": "markdown",
      "metadata": {
        "id": "BBguT8j1azKU",
        "colab_type": "text"
      },
      "source": [
        "The two main topics of interest are, first, the detection of bias in a dataset, as when machine learning algorithms learn, they learn from data, and if the data is biased, we expect the algorithm to be biased aswell, thus becoming susceptible of making discriminatory predictions. Second, we want to be able to mitigate that bias in the case that we detect it so that we can still use the power of machine learning to aid in the decision making process.\n",
        "\n",
        "We are going to demonstrate these two topics in action over an example. We chose to analyze an open dataset from the spanish **Instituto Nacional de Estadística** that has data about salaries in Spain. It is well known that there is a gap in salaries between male and female employees. We start by showing that this is in fact the case and that the proposed metrics detect it, then we proceed to train a model on this data and show that the algorithm has learned the bias in the dataset and makes discriminatory predictions. We finish by showing a way to train a model that performs just slightly worse but makes fairer predictions, thus mitigating, at least in part, the discrimination."
      ]
    },
    {
      "cell_type": "markdown",
      "metadata": {
        "id": "eQzx-aJRazKU",
        "colab_type": "text"
      },
      "source": [
        "## Imports"
      ]
    },
    {
      "cell_type": "code",
      "metadata": {
        "id": "SWoSUDxGazKV",
        "colab_type": "code",
        "colab": {}
      },
      "source": [
        "import os\n",
        "import sys\n",
        "\n",
        "import pandas as pd\n",
        "import numpy as np\n",
        "from sklearn.metrics import accuracy_score, balanced_accuracy_score\n",
        "from sklearn.model_selection import train_test_split\n",
        "from sklearn.ensemble import RandomForestClassifier\n",
        "from sklearn.model_selection import GridSearchCV\n",
        "import matplotlib.pyplot as plt\n",
        "from IPython.display import IFrame\n",
        "\n",
        "np.random.seed(0)\n",
        "pd.options.mode.chained_assignment = None"
      ],
      "execution_count": 0,
      "outputs": []
    },
    {
      "cell_type": "markdown",
      "metadata": {
        "id": "2q-BAYIzazKY",
        "colab_type": "text"
      },
      "source": [
        "## Brief description of the data\n",
        "\n",
        "The original dataset consist of 54 variables and 216769 observations. We have removed some of the attributes that are not relevant for our purposes and calculated the net salary with the formula SALBASE+COMSAL+EXTRAORM+PHEXTRA-COTIZA-IRPFMES to make our response variable 'SALNETO'. \n",
        "\n",
        "The attribute that we are looking to protect from discrimination is 'SEXO' which encodes the gender information as 6 for females and 1 for males. \n",
        "\n",
        "- Data: Encuestas de Estructura Salarial\n",
        "- Source: [Instituto Nacional de Estadística](http://www.ine.es/dyngs/INEbase/es/operacion.htm?c=Estadistica_C&cid=1254736177025&menu=resultados&secc=1254736195110&idp=1254735976596)"
      ]
    },
    {
      "cell_type": "markdown",
      "metadata": {
        "id": "p-cis1xaazKY",
        "colab_type": "text"
      },
      "source": [
        "## Preparation"
      ]
    },
    {
      "cell_type": "markdown",
      "metadata": {
        "id": "_5GFd1vRazKZ",
        "colab_type": "text"
      },
      "source": [
        "This section is devoted to present the data and its pre-processing. "
      ]
    },
    {
      "cell_type": "code",
      "metadata": {
        "id": "bH48wvcCazKa",
        "colab_type": "code",
        "outputId": "99cdd12b-6272-47dc-bf9c-2ba7c26853bd",
        "colab": {
          "base_uri": "https://localhost:8080/",
          "height": 266
        }
      },
      "source": [
        "!wget ftp://www.ine.es/temas/salarial/datos_2010.zip"
      ],
      "execution_count": 2,
      "outputs": [
        {
          "output_type": "stream",
          "text": [
            "--2019-10-18 07:39:41--  ftp://www.ine.es/temas/salarial/datos_2010.zip\n",
            "           => ‘datos_2010.zip’\n",
            "Resolving www.ine.es (www.ine.es)... 195.254.149.130, 195.254.149.129\n",
            "Connecting to www.ine.es (www.ine.es)|195.254.149.130|:21... connected.\n",
            "Logging in as anonymous ... Logged in!\n",
            "==> SYST ... done.    ==> PWD ... done.\n",
            "==> TYPE I ... done.  ==> CWD (1) /temas/salarial ... done.\n",
            "==> SIZE datos_2010.zip ... 47900756\n",
            "==> PASV ... done.    ==> RETR datos_2010.zip ... done.\n",
            "Length: 47900756 (46M) (unauthoritative)\n",
            "\n",
            "datos_2010.zip      100%[===================>]  45.68M  7.01MB/s    in 12s     \n",
            "\n",
            "2019-10-18 07:39:54 (3.97 MB/s) - ‘datos_2010.zip’ saved [47900756]\n",
            "\n"
          ],
          "name": "stdout"
        }
      ]
    },
    {
      "cell_type": "code",
      "metadata": {
        "id": "8qjM1lFRazKi",
        "colab_type": "code",
        "outputId": "5cffc2e4-3711-421b-aeef-69978c505f71",
        "colab": {
          "base_uri": "https://localhost:8080/",
          "height": 300
        }
      },
      "source": [
        "!unzip -o datos_2010.zip"
      ],
      "execution_count": 3,
      "outputs": [
        {
          "output_type": "stream",
          "text": [
            "Archive:  datos_2010.zip\n",
            "   creating: CSV/\n",
            "  inflating: CSV/EES_2010.csv        \n",
            "  inflating: dr_EES_2010.xlsx        \n",
            "  inflating: Leeme.txt               \n",
            "  inflating: md_EES_2010.txt         \n",
            "   creating: R/\n",
            "  inflating: R/LeemeR.txt            \n",
            "  inflating: R/MD_EES_2010.R         \n",
            "   creating: SAS/\n",
            "  inflating: SAS/ees_2010.sas7bdat   \n",
            "  inflating: SAS/EES_2010_conFormato.sas  \n",
            "   creating: SPSS/\n",
            "  inflating: SPSS/EES_2010.sav       \n",
            "   creating: STATA/\n",
            "  inflating: STATA/EES_2010.dta      \n",
            "  inflating: Obtenciвn de los resultados publicados a partir de los microdatos.doc  \n"
          ],
          "name": "stdout"
        }
      ]
    },
    {
      "cell_type": "code",
      "metadata": {
        "id": "Tp36wKmkazKn",
        "colab_type": "code",
        "outputId": "3343019c-cc1f-47ee-e767-e045f0285609",
        "colab": {
          "base_uri": "https://localhost:8080/",
          "height": 249
        }
      },
      "source": [
        "# Read the data\n",
        "data_raw = pd.read_csv(\"./CSV/EES_2010.csv\", delimiter=\"\\t\", quotechar=\"\\\"\" )\n",
        "print('Observations: ' + str(data_raw.shape[0]))\n",
        "print('Number of features: ' + str(data_raw.shape[1]))\n",
        "data_raw.head()"
      ],
      "execution_count": 4,
      "outputs": [
        {
          "output_type": "stream",
          "text": [
            "Observations: 216769\n",
            "Number of features: 54\n"
          ],
          "name": "stdout"
        },
        {
          "output_type": "execute_result",
          "data": {
            "text/html": [
              "<div>\n",
              "<style scoped>\n",
              "    .dataframe tbody tr th:only-of-type {\n",
              "        vertical-align: middle;\n",
              "    }\n",
              "\n",
              "    .dataframe tbody tr th {\n",
              "        vertical-align: top;\n",
              "    }\n",
              "\n",
              "    .dataframe thead th {\n",
              "        text-align: right;\n",
              "    }\n",
              "</style>\n",
              "<table border=\"1\" class=\"dataframe\">\n",
              "  <thead>\n",
              "    <tr style=\"text-align: right;\">\n",
              "      <th></th>\n",
              "      <th>ORDENCCC</th>\n",
              "      <th>ORDENTRA</th>\n",
              "      <th>NUTS1</th>\n",
              "      <th>CNACE</th>\n",
              "      <th>ESTRATO2</th>\n",
              "      <th>CONTROL</th>\n",
              "      <th>MERCADO</th>\n",
              "      <th>REGULACION</th>\n",
              "      <th>SEXO</th>\n",
              "      <th>TIPOPAIS</th>\n",
              "      <th>CNO1</th>\n",
              "      <th>RESPONSA</th>\n",
              "      <th>ESTU</th>\n",
              "      <th>ANOANTI</th>\n",
              "      <th>MESANTI</th>\n",
              "      <th>TIPOJOR</th>\n",
              "      <th>TIPOCON</th>\n",
              "      <th>FIJODISM</th>\n",
              "      <th>FIJODISD</th>\n",
              "      <th>VAL</th>\n",
              "      <th>VAN</th>\n",
              "      <th>PUENTES</th>\n",
              "      <th>JAP</th>\n",
              "      <th>JSP1</th>\n",
              "      <th>JSP2</th>\n",
              "      <th>HEXTRA</th>\n",
              "      <th>DRELABM</th>\n",
              "      <th>SIESPM1</th>\n",
              "      <th>DSIESPM1</th>\n",
              "      <th>SIESPM2</th>\n",
              "      <th>DSIESPM2</th>\n",
              "      <th>SALBASE</th>\n",
              "      <th>EXTRAORM</th>\n",
              "      <th>PHEXTRA</th>\n",
              "      <th>COMSAL</th>\n",
              "      <th>COMSALTT</th>\n",
              "      <th>IRPFMES</th>\n",
              "      <th>COTIZA</th>\n",
              "      <th>BASE</th>\n",
              "      <th>DRELABAM</th>\n",
              "      <th>DRELABAD</th>\n",
              "      <th>SIESPA1</th>\n",
              "      <th>DSIESPA1</th>\n",
              "      <th>SIESPA2</th>\n",
              "      <th>DSIESPA2</th>\n",
              "      <th>SIESPA3</th>\n",
              "      <th>DSIESPA3</th>\n",
              "      <th>SIESPA4</th>\n",
              "      <th>DSIESPA4</th>\n",
              "      <th>SALBRUTO</th>\n",
              "      <th>GEXTRA</th>\n",
              "      <th>VESP</th>\n",
              "      <th>ANOS2</th>\n",
              "      <th>FACTOTAL</th>\n",
              "    </tr>\n",
              "  </thead>\n",
              "  <tbody>\n",
              "    <tr>\n",
              "      <th>0</th>\n",
              "      <td>15000013</td>\n",
              "      <td>1</td>\n",
              "      <td>1</td>\n",
              "      <td>D0</td>\n",
              "      <td>1</td>\n",
              "      <td>2</td>\n",
              "      <td>1</td>\n",
              "      <td>3</td>\n",
              "      <td>6</td>\n",
              "      <td>1</td>\n",
              "      <td>E0</td>\n",
              "      <td>1</td>\n",
              "      <td>2</td>\n",
              "      <td>37</td>\n",
              "      <td>9</td>\n",
              "      <td>2</td>\n",
              "      <td>2</td>\n",
              "      <td>0</td>\n",
              "      <td>0</td>\n",
              "      <td>0</td>\n",
              "      <td>30</td>\n",
              "      <td>0</td>\n",
              "      <td>312</td>\n",
              "      <td>6</td>\n",
              "      <td>0</td>\n",
              "      <td>0</td>\n",
              "      <td>31</td>\n",
              "      <td>6</td>\n",
              "      <td>0</td>\n",
              "      <td>6</td>\n",
              "      <td>0</td>\n",
              "      <td>123.62</td>\n",
              "      <td>0.0</td>\n",
              "      <td>0.0</td>\n",
              "      <td>184.63</td>\n",
              "      <td>0.0</td>\n",
              "      <td>0.00</td>\n",
              "      <td>17.74</td>\n",
              "      <td>279.28</td>\n",
              "      <td>12</td>\n",
              "      <td>0</td>\n",
              "      <td>6</td>\n",
              "      <td>0</td>\n",
              "      <td>6</td>\n",
              "      <td>0</td>\n",
              "      <td>6</td>\n",
              "      <td>0</td>\n",
              "      <td>6</td>\n",
              "      <td>0</td>\n",
              "      <td>4420.14</td>\n",
              "      <td>404.83</td>\n",
              "      <td>0.0</td>\n",
              "      <td>6</td>\n",
              "      <td>16.96</td>\n",
              "    </tr>\n",
              "    <tr>\n",
              "      <th>1</th>\n",
              "      <td>15000013</td>\n",
              "      <td>2</td>\n",
              "      <td>1</td>\n",
              "      <td>D0</td>\n",
              "      <td>1</td>\n",
              "      <td>2</td>\n",
              "      <td>1</td>\n",
              "      <td>3</td>\n",
              "      <td>1</td>\n",
              "      <td>1</td>\n",
              "      <td>E0</td>\n",
              "      <td>1</td>\n",
              "      <td>4</td>\n",
              "      <td>35</td>\n",
              "      <td>9</td>\n",
              "      <td>1</td>\n",
              "      <td>1</td>\n",
              "      <td>0</td>\n",
              "      <td>0</td>\n",
              "      <td>0</td>\n",
              "      <td>30</td>\n",
              "      <td>0</td>\n",
              "      <td>1800</td>\n",
              "      <td>40</td>\n",
              "      <td>0</td>\n",
              "      <td>0</td>\n",
              "      <td>31</td>\n",
              "      <td>6</td>\n",
              "      <td>0</td>\n",
              "      <td>6</td>\n",
              "      <td>0</td>\n",
              "      <td>824.11</td>\n",
              "      <td>0.0</td>\n",
              "      <td>0.0</td>\n",
              "      <td>1066.76</td>\n",
              "      <td>0.0</td>\n",
              "      <td>277.90</td>\n",
              "      <td>131.14</td>\n",
              "      <td>2065.05</td>\n",
              "      <td>12</td>\n",
              "      <td>0</td>\n",
              "      <td>6</td>\n",
              "      <td>0</td>\n",
              "      <td>6</td>\n",
              "      <td>0</td>\n",
              "      <td>6</td>\n",
              "      <td>0</td>\n",
              "      <td>6</td>\n",
              "      <td>0</td>\n",
              "      <td>27437.38</td>\n",
              "      <td>4956.12</td>\n",
              "      <td>0.0</td>\n",
              "      <td>5</td>\n",
              "      <td>16.96</td>\n",
              "    </tr>\n",
              "    <tr>\n",
              "      <th>2</th>\n",
              "      <td>15000013</td>\n",
              "      <td>3</td>\n",
              "      <td>1</td>\n",
              "      <td>D0</td>\n",
              "      <td>1</td>\n",
              "      <td>2</td>\n",
              "      <td>1</td>\n",
              "      <td>3</td>\n",
              "      <td>1</td>\n",
              "      <td>1</td>\n",
              "      <td>L0</td>\n",
              "      <td>0</td>\n",
              "      <td>1</td>\n",
              "      <td>36</td>\n",
              "      <td>9</td>\n",
              "      <td>2</td>\n",
              "      <td>2</td>\n",
              "      <td>0</td>\n",
              "      <td>0</td>\n",
              "      <td>0</td>\n",
              "      <td>30</td>\n",
              "      <td>0</td>\n",
              "      <td>312</td>\n",
              "      <td>6</td>\n",
              "      <td>0</td>\n",
              "      <td>0</td>\n",
              "      <td>31</td>\n",
              "      <td>6</td>\n",
              "      <td>0</td>\n",
              "      <td>6</td>\n",
              "      <td>0</td>\n",
              "      <td>122.87</td>\n",
              "      <td>0.0</td>\n",
              "      <td>0.0</td>\n",
              "      <td>238.38</td>\n",
              "      <td>0.0</td>\n",
              "      <td>0.00</td>\n",
              "      <td>19.33</td>\n",
              "      <td>304.55</td>\n",
              "      <td>12</td>\n",
              "      <td>0</td>\n",
              "      <td>6</td>\n",
              "      <td>0</td>\n",
              "      <td>6</td>\n",
              "      <td>0</td>\n",
              "      <td>6</td>\n",
              "      <td>0</td>\n",
              "      <td>6</td>\n",
              "      <td>0</td>\n",
              "      <td>5630.07</td>\n",
              "      <td>384.73</td>\n",
              "      <td>0.0</td>\n",
              "      <td>6</td>\n",
              "      <td>16.96</td>\n",
              "    </tr>\n",
              "    <tr>\n",
              "      <th>3</th>\n",
              "      <td>15000013</td>\n",
              "      <td>4</td>\n",
              "      <td>1</td>\n",
              "      <td>D0</td>\n",
              "      <td>1</td>\n",
              "      <td>2</td>\n",
              "      <td>1</td>\n",
              "      <td>3</td>\n",
              "      <td>1</td>\n",
              "      <td>1</td>\n",
              "      <td>N0</td>\n",
              "      <td>0</td>\n",
              "      <td>1</td>\n",
              "      <td>33</td>\n",
              "      <td>0</td>\n",
              "      <td>1</td>\n",
              "      <td>1</td>\n",
              "      <td>0</td>\n",
              "      <td>0</td>\n",
              "      <td>0</td>\n",
              "      <td>30</td>\n",
              "      <td>0</td>\n",
              "      <td>1800</td>\n",
              "      <td>40</td>\n",
              "      <td>0</td>\n",
              "      <td>0</td>\n",
              "      <td>31</td>\n",
              "      <td>6</td>\n",
              "      <td>0</td>\n",
              "      <td>6</td>\n",
              "      <td>0</td>\n",
              "      <td>821.17</td>\n",
              "      <td>0.0</td>\n",
              "      <td>0.0</td>\n",
              "      <td>382.76</td>\n",
              "      <td>0.0</td>\n",
              "      <td>84.28</td>\n",
              "      <td>88.75</td>\n",
              "      <td>1397.74</td>\n",
              "      <td>12</td>\n",
              "      <td>0</td>\n",
              "      <td>6</td>\n",
              "      <td>0</td>\n",
              "      <td>6</td>\n",
              "      <td>0</td>\n",
              "      <td>6</td>\n",
              "      <td>0</td>\n",
              "      <td>6</td>\n",
              "      <td>0</td>\n",
              "      <td>17799.44</td>\n",
              "      <td>3303.86</td>\n",
              "      <td>0.0</td>\n",
              "      <td>5</td>\n",
              "      <td>16.96</td>\n",
              "    </tr>\n",
              "    <tr>\n",
              "      <th>4</th>\n",
              "      <td>15000013</td>\n",
              "      <td>5</td>\n",
              "      <td>1</td>\n",
              "      <td>D0</td>\n",
              "      <td>1</td>\n",
              "      <td>2</td>\n",
              "      <td>1</td>\n",
              "      <td>3</td>\n",
              "      <td>1</td>\n",
              "      <td>1</td>\n",
              "      <td>N0</td>\n",
              "      <td>0</td>\n",
              "      <td>1</td>\n",
              "      <td>1</td>\n",
              "      <td>0</td>\n",
              "      <td>1</td>\n",
              "      <td>1</td>\n",
              "      <td>0</td>\n",
              "      <td>0</td>\n",
              "      <td>0</td>\n",
              "      <td>30</td>\n",
              "      <td>0</td>\n",
              "      <td>1800</td>\n",
              "      <td>40</td>\n",
              "      <td>0</td>\n",
              "      <td>0</td>\n",
              "      <td>31</td>\n",
              "      <td>6</td>\n",
              "      <td>0</td>\n",
              "      <td>6</td>\n",
              "      <td>0</td>\n",
              "      <td>1039.66</td>\n",
              "      <td>0.0</td>\n",
              "      <td>0.0</td>\n",
              "      <td>137.60</td>\n",
              "      <td>0.0</td>\n",
              "      <td>117.73</td>\n",
              "      <td>69.36</td>\n",
              "      <td>1092.43</td>\n",
              "      <td>12</td>\n",
              "      <td>0</td>\n",
              "      <td>6</td>\n",
              "      <td>0</td>\n",
              "      <td>6</td>\n",
              "      <td>0</td>\n",
              "      <td>6</td>\n",
              "      <td>0</td>\n",
              "      <td>6</td>\n",
              "      <td>0</td>\n",
              "      <td>14588.46</td>\n",
              "      <td>0.00</td>\n",
              "      <td>0.0</td>\n",
              "      <td>4</td>\n",
              "      <td>16.96</td>\n",
              "    </tr>\n",
              "  </tbody>\n",
              "</table>\n",
              "</div>"
            ],
            "text/plain": [
              "   ORDENCCC  ORDENTRA  NUTS1 CNACE  ...   GEXTRA  VESP  ANOS2  FACTOTAL\n",
              "0  15000013         1      1    D0  ...   404.83   0.0      6     16.96\n",
              "1  15000013         2      1    D0  ...  4956.12   0.0      5     16.96\n",
              "2  15000013         3      1    D0  ...   384.73   0.0      6     16.96\n",
              "3  15000013         4      1    D0  ...  3303.86   0.0      5     16.96\n",
              "4  15000013         5      1    D0  ...     0.00   0.0      4     16.96\n",
              "\n",
              "[5 rows x 54 columns]"
            ]
          },
          "metadata": {
            "tags": []
          },
          "execution_count": 4
        }
      ]
    },
    {
      "cell_type": "markdown",
      "metadata": {
        "id": "kVIW5YNwuF8u",
        "colab_type": "text"
      },
      "source": [
        "We have removed some of the attributes that are not relevant for our purposes and calculated the net salary with the formula SALBASE+COMSAL+EXTRAORM+PHEXTRA-COTIZA-IRPFMES to make our response variable 'SALNETO'"
      ]
    },
    {
      "cell_type": "code",
      "metadata": {
        "colab_type": "code",
        "id": "8o5TqlrDKIHY",
        "colab": {}
      },
      "source": [
        " #SALBASE+COMSAL+EXTRAORM+PHEXTRA-COTIZA-IRPFMES\n",
        "data_raw['SALNETO']= data_raw.SALBASE + data_raw.COMSAL + data_raw.EXTRAORM + data_raw.PHEXTRA - data_raw.COTIZA - data_raw.IRPFMES\n",
        "data = data_raw.drop([\"ORDENCCC\",\n",
        "                      \"ORDENTRA\",\n",
        "                      \"FACTOTAL\",\n",
        "                      \"SALBASE\",\n",
        "                      \"EXTRAORM\",\n",
        "                      \"PHEXTRA\",\n",
        "                      \"COMSAL\",\n",
        "                      \"COMSALTT\",\n",
        "                      \"IRPFMES\",\n",
        "                      \"COTIZA\",\n",
        "                      \"BASE\",\n",
        "                      \"SALBRUTO\",\n",
        "                      \"GEXTRA\",\n",
        "                      \"VESP\"], axis= 1)"
      ],
      "execution_count": 0,
      "outputs": []
    },
    {
      "cell_type": "code",
      "metadata": {
        "id": "j5kfgz8qQLfk",
        "colab_type": "code",
        "outputId": "516044e9-9fc9-4d29-de7a-ca02da6389ad",
        "colab": {
          "base_uri": "https://localhost:8080/",
          "height": 150
        }
      },
      "source": [
        "data.columns"
      ],
      "execution_count": 6,
      "outputs": [
        {
          "output_type": "execute_result",
          "data": {
            "text/plain": [
              "Index(['NUTS1', 'CNACE', 'ESTRATO2', 'CONTROL', 'MERCADO', 'REGULACION',\n",
              "       'SEXO', 'TIPOPAIS', 'CNO1', 'RESPONSA', 'ESTU', 'ANOANTI', 'MESANTI',\n",
              "       'TIPOJOR', 'TIPOCON', 'FIJODISM', 'FIJODISD', 'VAL', 'VAN', 'PUENTES',\n",
              "       'JAP', 'JSP1', 'JSP2', 'HEXTRA', 'DRELABM', 'SIESPM1', 'DSIESPM1',\n",
              "       'SIESPM2', 'DSIESPM2', 'DRELABAM', 'DRELABAD', 'SIESPA1', 'DSIESPA1',\n",
              "       'SIESPA2', 'DSIESPA2', 'SIESPA3', 'DSIESPA3', 'SIESPA4', 'DSIESPA4',\n",
              "       'ANOS2', 'SALNETO'],\n",
              "      dtype='object')"
            ]
          },
          "metadata": {
            "tags": []
          },
          "execution_count": 6
        }
      ]
    },
    {
      "cell_type": "markdown",
      "metadata": {
        "id": "0swIvNkwazKq",
        "colab_type": "text"
      },
      "source": [
        "We obtain both net salary distributions per genre with the aim of visualize the effects that this attribute can cause in the salary that people perceive. We can see in the graph below that the mean of the female distribution is clearly lower compared to the male one. Moreover, the higher net salary, the lower amount of female wage-earners. So, we can conclude that the female genre is the unprivileged group, as we expected."
      ]
    },
    {
      "cell_type": "code",
      "metadata": {
        "id": "dRoSt6sFazKr",
        "colab_type": "code",
        "outputId": "902cd8c1-9053-4de4-9b12-5065214c32dc",
        "colab": {
          "base_uri": "https://localhost:8080/",
          "height": 621
        }
      },
      "source": [
        "# Run\n",
        "IFrame('https://public.tableau.com/views/CmpDistSalnetoGenINE2010/Dashboard2?:showVizHome=no&amp;:embed=true ', width='100%',height=600) "
      ],
      "execution_count": 7,
      "outputs": [
        {
          "output_type": "execute_result",
          "data": {
            "text/html": [
              "\n",
              "        <iframe\n",
              "            width=\"100%\"\n",
              "            height=\"600\"\n",
              "            src=\"https://public.tableau.com/views/CmpDistSalnetoGenINE2010/Dashboard2?:showVizHome=no&amp;:embed=true \"\n",
              "            frameborder=\"0\"\n",
              "            allowfullscreen\n",
              "        ></iframe>\n",
              "        "
            ],
            "text/plain": [
              "<IPython.lib.display.IFrame at 0x7fa15841db00>"
            ]
          },
          "metadata": {
            "tags": []
          },
          "execution_count": 7
        }
      ]
    },
    {
      "cell_type": "markdown",
      "metadata": {
        "id": "yDgUK_JzazKt",
        "colab_type": "text"
      },
      "source": [
        "Before start working with the dataset, we combine the columns JSP1 and JSP2, which refer to working hours and minutes respectively, generating a new column JSP. As we have several categorical variables, we encode them using one hot encoding."
      ]
    },
    {
      "cell_type": "code",
      "metadata": {
        "id": "Mb5RYEfiazKu",
        "colab_type": "code",
        "colab": {}
      },
      "source": [
        "data[\"JSP\"] = data[\"JSP1\"] + data[\"JSP2\"]/60\n",
        "data = data.drop([\"JSP1\",\"JSP2\"], axis=1)\n",
        "\n",
        "# OneHotEncoding for categorical variables\n",
        "categorical_cols = [\"NUTS1\", \"CNACE\", \"ESTRATO2\", \"CONTROL\", \"MERCADO\", \"REGULACION\", \"TIPOPAIS\",\"CNO1\",\"RESPONSA\",\"ESTU\",\n",
        "                    \"TIPOJOR\",\"TIPOCON\",\"SIESPM1\",\"SIESPM2\",\"SIESPA1\", \"SIESPA2\", \"SIESPA3\", \"SIESPA4\"]\n",
        "\n",
        "for i in categorical_cols:    \n",
        "    one_hot = pd.get_dummies(data[i])\n",
        "    data = data.drop(i, axis=1)\n",
        "    data = pd.merge(data, one_hot, left_index=True, right_index=True)"
      ],
      "execution_count": 0,
      "outputs": []
    },
    {
      "cell_type": "markdown",
      "metadata": {
        "id": "gyZJTUbeazKw",
        "colab_type": "text"
      },
      "source": [
        "Then, we split our data into train and test sets ensuring that both of them keep the gender proportion.\n",
        "###### Observation\n",
        "It is worth noting that it exists a naive approach to the bias mitigation problem, which consists of removing the protected attribute from the dataset in the hopes of eliminating the discrimination. The approach is based on the idea that if the model does not consider the attribute that we are trying to protect, then the model wont discriminate based on that attribute. However, this approach to the problem is not enough, as there might, and with very high probability are, other variables strongly correlated with the one that we want to protect from discrimination, often called proxy variables. Our approach must therefore be different; furthermore, we will always consider datasets for which the protected attribute has been removed to show that our approach does not dependent on that.\n",
        "\n",
        "\n",
        "Finally, we categorize our response variable 'SALNETO' by using a threshold. If the salary is greater than a this threshold it is encoded as 1, and 0 otherwise. We decided to set a meaningful threshold like 1000€, quantity often used for discriminating between a low salary and a high one in Spain."
      ]
    },
    {
      "cell_type": "code",
      "metadata": {
        "id": "wXKXLd_YazKx",
        "colab_type": "code",
        "colab": {}
      },
      "source": [
        "# Split the data into training and test sets. (0.75, 0.25) split.\n",
        "#train, test = train_test_split(data, stratify=data[\"SEXO\"])\n",
        "train, test = train_test_split(data, stratify=data[\"SEXO\"], train_size= 0.3)\n",
        "\n",
        "train_x = train.drop([\"SALNETO\", \"SEXO\"], axis=1)\n",
        "test_x = test.drop([\"SALNETO\", \"SEXO\"], axis=1)\n",
        "train_y = train[[\"SALNETO\", \"SEXO\"]]\n",
        "test_y = test[[\"SALNETO\", \"SEXO\"]]"
      ],
      "execution_count": 0,
      "outputs": []
    },
    {
      "cell_type": "code",
      "metadata": {
        "id": "WK2ov_6ZazKy",
        "colab_type": "code",
        "colab": {}
      },
      "source": [
        "#Salary categorization\n",
        "thr = 1000\n",
        "\n",
        "train_y.loc[train_y['SALNETO'] <= thr, 'SALNETO'] = 0\n",
        "train_y.loc[train_y['SALNETO'] > thr, 'SALNETO'] = 1\n",
        "\n",
        "test_y.loc[test_y['SALNETO'] <= thr, 'SALNETO'] = 0\n",
        "test_y.loc[test_y['SALNETO'] > thr, 'SALNETO'] = 1"
      ],
      "execution_count": 0,
      "outputs": []
    },
    {
      "cell_type": "markdown",
      "metadata": {
        "id": "XnRqX54jazK0",
        "colab_type": "text"
      },
      "source": [
        "## Metrics\n",
        "Before starting our fairness analysis, we need to define a set of metrics related to how we measure fairness. Fortunately, metrics like this have already been collected and included in the AIF360 toolkit from IBM. We will use their definitions, briefly explained below. For a more in depth explanation we recommend to refer to the source.\n",
        "\n",
        "_Source:_ [AI Fairness 360](https://aif360.mybluemix.net/)"
      ]
    },
    {
      "cell_type": "markdown",
      "metadata": {
        "id": "pnLz-R38azK1",
        "colab_type": "text"
      },
      "source": [
        "#### Statistical Parity Difference:\n",
        "\n",
        "Computed as the difference of the rate of favorable outcomes received by the unprivileged group to the privileged group.\n",
        "\n",
        "- The ideal value of this metric is 0\n",
        "- Fairness for this metric is between -0.1 and 0.1"
      ]
    },
    {
      "cell_type": "code",
      "metadata": {
        "id": "nkp8JeJSazK1",
        "colab_type": "code",
        "colab": {}
      },
      "source": [
        "def statistical_parity_difference(data, protected_col, protected_val, unprotected_val, Class):\n",
        "    fav_outcome_rate_unpriv = len(data[(data[Class] == 1) & (data[protected_col] == protected_val)]) /\\\n",
        "                              len(data[data[protected_col] == protected_val])\n",
        "    fav_outcome_rate_priv = len(data[(data[Class] == 1) & (data[protected_col] == unprotected_val)]) /\\\n",
        "                            len(data[data[protected_col] == unprotected_val])\n",
        "    return(fav_outcome_rate_unpriv - fav_outcome_rate_priv)"
      ],
      "execution_count": 0,
      "outputs": []
    },
    {
      "cell_type": "code",
      "metadata": {
        "id": "35APfR-uazK3",
        "colab_type": "code",
        "outputId": "149ac06e-cfb2-4322-aeda-7c6028da150f",
        "colab": {
          "base_uri": "https://localhost:8080/",
          "height": 0
        }
      },
      "source": [
        "spd_pre_orig = statistical_parity_difference(train_y, 'SEXO', 6, 1, 'SALNETO')\n",
        "print(spd_pre_orig)"
      ],
      "execution_count": 12,
      "outputs": [
        {
          "output_type": "stream",
          "text": [
            "-0.20783865345804953\n"
          ],
          "name": "stdout"
        }
      ]
    },
    {
      "cell_type": "code",
      "metadata": {
        "id": "Ks0BhgyqazK5",
        "colab_type": "code",
        "outputId": "7260718b-d31d-482d-b4db-a910129065d8",
        "colab": {
          "base_uri": "https://localhost:8080/",
          "height": 0
        }
      },
      "source": [
        "import matplotlib.pyplot as plt\n",
        "plt.figure()\n",
        "plt.ylim([-1, 1])\n",
        "plt.xlim([-1, 1])\n",
        "plt.axhspan(-0.1, 0.1, facecolor='green', alpha=0.15, label='Fair')\n",
        "plt.axhspan(-1, -0.1, facecolor='red', alpha=0.15, label='Bias')\n",
        "plt.bar(0, spd_pre_orig, align='center', label='original', color='grey')\n",
        "plt.axhline(y=0, color='black', lw=0.5)\n",
        "plt.xticks([])\n",
        "plt.title('Statistical Parity Difference')\n",
        "plt.legend()\n",
        "plt.show()"
      ],
      "execution_count": 13,
      "outputs": [
        {
          "output_type": "display_data",
          "data": {
            "image/png": "[encoded data removed]",
            "text/plain": [
              "<Figure size 432x288 with 1 Axes>"
            ]
          },
          "metadata": {
            "tags": []
          }
        }
      ]
    },
    {
      "cell_type": "markdown",
      "metadata": {
        "id": "iL33FbMNazK7",
        "colab_type": "text"
      },
      "source": [
        "#### Disparate impact\n",
        "\n",
        "Computed as the ratio of rate of favorable outcome for the unprivileged group to that of the privileged group.\n",
        "\n",
        "- The ideal value of this metric is 1.0 A value < 1 implies higher benefit for the privileged group and a value >1 implies a higher benefit for the unprivileged group.\n",
        "- Fairness for this metric is between 0.8 and 1.2."
      ]
    },
    {
      "cell_type": "code",
      "metadata": {
        "id": "WnCJMVQfazK7",
        "colab_type": "code",
        "colab": {}
      },
      "source": [
        "def disparate_impact(data, protected_col, protected_val, unprotected_val, Class):\n",
        "    fav_outcome_rate_unpriv = len(data[(data[Class] == 1) & (data[protected_col] == protected_val)]) /\\\n",
        "                              len(data[data[protected_col] == protected_val])\n",
        "    fav_outcome_rate_priv = len(data[(data[Class] == 1) & (data[protected_col] == unprotected_val)]) /\\\n",
        "                            len(data[data[protected_col] == unprotected_val])\n",
        "    return(fav_outcome_rate_unpriv / fav_outcome_rate_priv)"
      ],
      "execution_count": 0,
      "outputs": []
    },
    {
      "cell_type": "code",
      "metadata": {
        "id": "49fPPPyAazK9",
        "colab_type": "code",
        "outputId": "13ed0fa0-fe9b-42dc-d064-4bf93eaa73a3",
        "colab": {
          "base_uri": "https://localhost:8080/",
          "height": 0
        }
      },
      "source": [
        "di_pre_orig = disparate_impact(train_y, 'SEXO', 6,1,'SALNETO')\n",
        "print(di_pre_orig)"
      ],
      "execution_count": 15,
      "outputs": [
        {
          "output_type": "stream",
          "text": [
            "0.7427020447395961\n"
          ],
          "name": "stdout"
        }
      ]
    },
    {
      "cell_type": "code",
      "metadata": {
        "id": "YFDlgEl_azK_",
        "colab_type": "code",
        "outputId": "5bb25f4f-b452-49ce-8e30-e4e7eca9fa36",
        "colab": {
          "base_uri": "https://localhost:8080/",
          "height": 0
        }
      },
      "source": [
        "plt.figure()\n",
        "plt.ylim([0, 1.5])\n",
        "plt.xlim([-1, 1])\n",
        "plt.axhspan(0.8, 1.2, facecolor='green', alpha=0.15, label='Fair')\n",
        "plt.axhspan(0, 0.8, facecolor='red', alpha=0.15, label='Bias')\n",
        "plt.bar(0, di_pre_orig, align='center', label='original', color='grey')\n",
        "plt.xticks([])\n",
        "plt.title('Disparate Impact')\n",
        "plt.legend()\n",
        "plt.show()"
      ],
      "execution_count": 16,
      "outputs": [
        {
          "output_type": "display_data",
          "data": {
            "image/png": "[encoded data removed]",
            "text/plain": [
              "<Figure size 432x288 with 1 Axes>"
            ]
          },
          "metadata": {
            "tags": []
          }
        }
      ]
    },
    {
      "cell_type": "markdown",
      "metadata": {
        "id": "5_cPqxHmazLB",
        "colab_type": "text"
      },
      "source": [
        "As shown by the metrics above, the dataset is biased concerning the gender information.\n",
        " \n",
        "\n",
        "**[Below metrics will be used after the modeling stage]** \n",
        "\n",
        "#### Equal Opportunity Difference\n",
        "\n",
        "This metric is computed as the difference of true positive rates between the unprivileged and the privileged groups. The true positive rate is the ratio of true positives to the total number of actual positives for a given group.\n",
        "\n",
        "- The ideal value is 0. A value of < 0 implies higher benefit for the privileged group and a value > 0 implies higher benefit for the unprivileged group.\n",
        "- Fairness for this metric is between -0.1 and 0.1."
      ]
    },
    {
      "cell_type": "code",
      "metadata": {
        "id": "0aTw0ofbazLD",
        "colab_type": "code",
        "colab": {}
      },
      "source": [
        "def equal_opportunity_difference(data, protected_col, protected_val, unprotected_val, Class, pClass):\n",
        "    tpr_unpriv = len(data[(data[Class] == 1) & (data[pClass] == 1) & (data[protected_col] == protected_val)]) /\\\n",
        "                 len(data[(data[Class] == 1) & (data[protected_col] == protected_val)])\n",
        "    tpr_priv = len(data[(data[Class] == 1) & (data[pClass] == 1) & (data[protected_col] == unprotected_val)]) / \\\n",
        "               len(data[(data[Class] == 1) & (data[protected_col] == unprotected_val)])\n",
        "    return(tpr_unpriv - tpr_priv)"
      ],
      "execution_count": 0,
      "outputs": []
    },
    {
      "cell_type": "markdown",
      "metadata": {
        "id": "3gEva5pJazLG",
        "colab_type": "text"
      },
      "source": [
        "#### Average Odds Difference\n",
        "\n",
        "Computed as average difference of false positive rate (false positives / negatives) and true positive rate (true positives / positives) between unprivileged and privileged groups.\n",
        "\n",
        "- The ideal value of this metric is 0. A value of < 0 implies higher benefit for the privileged group and a value > 0 implies higher benefit for the unprivileged group.\n",
        "- Fairness for this metric is between -0.1 and 0.1."
      ]
    },
    {
      "cell_type": "code",
      "metadata": {
        "id": "uxOJlEgEazLH",
        "colab_type": "code",
        "colab": {}
      },
      "source": [
        "def average_odds_difference(data, protected_col, protected_val, unprotected_val, Class, pClass):\n",
        "    tpr_unpriv = len(data[(data[Class] == 1) & (data[pClass] == 1) & (data[protected_col] == protected_val)]) / \\\n",
        "                 len(data[(data[Class] == 1) & (data[protected_col] == protected_val)])\n",
        "    tpr_priv = len(data[(data[Class] == 1) & (data[pClass] == 1) & (data[protected_col] == unprotected_val)]) / \\\n",
        "               len(data[(data[Class] == 1) & (data[protected_col] == unprotected_val)])\n",
        "    fpr_unpriv = len(data[(data[Class] == 0) & (data[pClass] == 1) & (data[protected_col] == protected_val)]) / \\\n",
        "                 len(data[(data[Class] == 0) & (data[protected_col] == protected_val)])\n",
        "    fpr_priv = len(data[(data[Class] == 0) & (data[pClass] == 1) & (data[protected_col] == unprotected_val)]) / \\\n",
        "               len(data[(data[Class] == 0) & (data[protected_col] == unprotected_val)])\n",
        "    unpriv_mean = np.mean([tpr_unpriv, fpr_unpriv])\n",
        "    priv_mean = np.mean([tpr_priv, fpr_priv])\n",
        "    return(unpriv_mean - priv_mean)"
      ],
      "execution_count": 0,
      "outputs": []
    },
    {
      "cell_type": "markdown",
      "metadata": {
        "id": "VbYGdIPjazLI",
        "colab_type": "text"
      },
      "source": [
        "## Modeling\n",
        "It is time now to train a classifier with the pre-processed dataset. Remember that the protected attribute has been removed and no bias mitigation technique has been applied so far."
      ]
    },
    {
      "cell_type": "markdown",
      "metadata": {
        "id": "X8gT8DSXazLJ",
        "colab_type": "text"
      },
      "source": [
        "**Classifier:** Random Forest\n",
        "\n",
        "**Parameters:**\n",
        "- Number of trees in the forest: 100\n",
        "- Maximum depth of the tree: Cross-validated via GridSearch"
      ]
    },
    {
      "cell_type": "code",
      "metadata": {
        "id": "TtbSOG_iazLJ",
        "colab_type": "code",
        "outputId": "8fbcfb7b-fbb0-4af2-d38d-49c2bb3cc94a",
        "colab": {
          "base_uri": "https://localhost:8080/",
          "height": 316
        }
      },
      "source": [
        "rfc = RandomForestClassifier(n_estimators= 100)\n",
        "param_grid = {'max_depth' : np.arange(30,65,5)}\n",
        "#param_grid = {'max_depth' : np.arange(10,65,5)}\n",
        "CV_rfc = GridSearchCV(estimator=rfc, param_grid=param_grid, cv= 5)\n",
        "CV_rfc.fit(train_x, train_y['SALNETO'])"
      ],
      "execution_count": 19,
      "outputs": [
        {
          "output_type": "execute_result",
          "data": {
            "text/plain": [
              "GridSearchCV(cv=5, error_score='raise-deprecating',\n",
              "             estimator=RandomForestClassifier(bootstrap=True, class_weight=None,\n",
              "                                              criterion='gini', max_depth=None,\n",
              "                                              max_features='auto',\n",
              "                                              max_leaf_nodes=None,\n",
              "                                              min_impurity_decrease=0.0,\n",
              "                                              min_impurity_split=None,\n",
              "                                              min_samples_leaf=1,\n",
              "                                              min_samples_split=2,\n",
              "                                              min_weight_fraction_leaf=0.0,\n",
              "                                              n_estimators=100, n_jobs=None,\n",
              "                                              oob_score=False,\n",
              "                                              random_state=None, verbose=0,\n",
              "                                              warm_start=False),\n",
              "             iid='warn', n_jobs=None,\n",
              "             param_grid={'max_depth': array([30, 35, 40, 45, 50, 55, 60])},\n",
              "             pre_dispatch='2*n_jobs', refit=True, return_train_score=False,\n",
              "             scoring=None, verbose=0)"
            ]
          },
          "metadata": {
            "tags": []
          },
          "execution_count": 19
        }
      ]
    },
    {
      "cell_type": "code",
      "metadata": {
        "id": "VWZVwiHHazLL",
        "colab_type": "code",
        "outputId": "7a5c11be-6197-432d-be60-70c71f640b1d",
        "colab": {
          "base_uri": "https://localhost:8080/",
          "height": 33
        }
      },
      "source": [
        "CV_rfc.best_params_"
      ],
      "execution_count": 20,
      "outputs": [
        {
          "output_type": "execute_result",
          "data": {
            "text/plain": [
              "{'max_depth': 50}"
            ]
          },
          "metadata": {
            "tags": []
          },
          "execution_count": 20
        }
      ]
    },
    {
      "cell_type": "code",
      "metadata": {
        "id": "kPHYFxjlazLN",
        "colab_type": "code",
        "outputId": "55be7949-d63f-4d68-c769-a07c8cf2eb21",
        "colab": {
          "base_uri": "https://localhost:8080/",
          "height": 133
        }
      },
      "source": [
        "rfc1=RandomForestClassifier(random_state=42, \n",
        "                           max_features= 'auto', \n",
        "                           max_depth = CV_rfc.best_params_['max_depth'], \n",
        "                           n_estimators= 100, \n",
        "                           criterion='gini')\n",
        "\n",
        "rfc1.fit(train_x, train_y['SALNETO'])"
      ],
      "execution_count": 21,
      "outputs": [
        {
          "output_type": "execute_result",
          "data": {
            "text/plain": [
              "RandomForestClassifier(bootstrap=True, class_weight=None, criterion='gini',\n",
              "                       max_depth=50, max_features='auto', max_leaf_nodes=None,\n",
              "                       min_impurity_decrease=0.0, min_impurity_split=None,\n",
              "                       min_samples_leaf=1, min_samples_split=2,\n",
              "                       min_weight_fraction_leaf=0.0, n_estimators=100,\n",
              "                       n_jobs=None, oob_score=False, random_state=42, verbose=0,\n",
              "                       warm_start=False)"
            ]
          },
          "metadata": {
            "tags": []
          },
          "execution_count": 21
        }
      ]
    },
    {
      "cell_type": "code",
      "metadata": {
        "id": "RO80k46DazLP",
        "colab_type": "code",
        "colab": {}
      },
      "source": [
        "# Evaluate metrics\n",
        "def eval_metrics(actual, pred):\n",
        "    acc = np.mean(accuracy_score(actual, pred))\n",
        "    bal_acc = balanced_accuracy_score(actual, pred)\n",
        "    return acc, bal_acc"
      ],
      "execution_count": 0,
      "outputs": []
    },
    {
      "cell_type": "code",
      "metadata": {
        "id": "v0DdDkADazLR",
        "colab_type": "code",
        "outputId": "549476d1-1293-40b2-beab-53b072dc7984",
        "colab": {
          "base_uri": "https://localhost:8080/",
          "height": 67
        }
      },
      "source": [
        "# Testing the classifer\n",
        "predicted_salary = rfc1.predict(test_x)\n",
        "\n",
        "predicted_y = pd.DataFrame(predicted_salary)\n",
        "(acc, bal_acc) = eval_metrics(test_y['SALNETO'], predicted_salary)\n",
        "\n",
        "\n",
        "print(\"Random Forest (n_estimators=%i, max_depth=%i):\" % (100, CV_rfc.best_params_['max_depth']))\n",
        "print(\"  Accuracy: %s\" % acc)\n",
        "print(\"  Balanced Accuracy: %s\" % bal_acc)"
      ],
      "execution_count": 23,
      "outputs": [
        {
          "output_type": "stream",
          "text": [
            "Random Forest (n_estimators=100, max_depth=50):\n",
            "  Accuracy: 0.8689460191513059\n",
            "  Balanced Accuracy: 0.8045029431409887\n"
          ],
          "name": "stdout"
        }
      ]
    },
    {
      "cell_type": "code",
      "metadata": {
        "id": "V5i0_WRkazLS",
        "colab_type": "code",
        "colab": {}
      },
      "source": [
        "# Save model\n",
        "import pickle\n",
        "filename = 'rf_model.sav'\n",
        "pickle.dump(rfc1, open(filename, 'wb'))"
      ],
      "execution_count": 0,
      "outputs": []
    },
    {
      "cell_type": "markdown",
      "metadata": {
        "id": "t2eL2YKqazLU",
        "colab_type": "text"
      },
      "source": [
        "## Metrics after the model\n",
        "\n",
        "We now proceed to calculate the metrics described above but on the predictions made by the model.\n",
        "\n",
        "Remember that the protected attribute was removed from the dataset!"
      ]
    },
    {
      "cell_type": "code",
      "metadata": {
        "id": "ygaufFDlazLV",
        "colab_type": "code",
        "colab": {}
      },
      "source": [
        "test_y['predicted'] = predicted_salary"
      ],
      "execution_count": 0,
      "outputs": []
    },
    {
      "cell_type": "code",
      "metadata": {
        "id": "pq_gUCNsazLX",
        "colab_type": "code",
        "outputId": "922b3d17-6153-4899-83da-03bbae74fe3b",
        "colab": {
          "base_uri": "https://localhost:8080/",
          "height": 33
        }
      },
      "source": [
        "spd_orig = statistical_parity_difference(test_y, 'SEXO', 6, 1, 'predicted')\n",
        "print(spd_orig)"
      ],
      "execution_count": 26,
      "outputs": [
        {
          "output_type": "stream",
          "text": [
            "-0.19463360110770167\n"
          ],
          "name": "stdout"
        }
      ]
    },
    {
      "cell_type": "code",
      "metadata": {
        "id": "2tNRAwkVazLa",
        "colab_type": "code",
        "outputId": "af03534d-848d-4d19-e4fd-8556849a6a36",
        "colab": {
          "base_uri": "https://localhost:8080/",
          "height": 270
        }
      },
      "source": [
        "import matplotlib.pyplot as plt\n",
        "plt.figure()\n",
        "plt.ylim([-1, 1])\n",
        "plt.xlim([-1, 1])\n",
        "plt.axhspan(-0.1, 0.1, facecolor='green', alpha=0.15, label='Fair')\n",
        "plt.axhspan(-1, -0.1, facecolor='red', alpha=0.15, label='Bias')\n",
        "plt.bar(0, spd_orig, align='center', label='original', color='grey')\n",
        "plt.axhline(y=0, color='black', lw=0.5)\n",
        "plt.xticks([])\n",
        "plt.title('Statistical Parity Difference')\n",
        "plt.legend()\n",
        "plt.show()"
      ],
      "execution_count": 27,
      "outputs": [
        {
          "output_type": "display_data",
          "data": {
            "image/png": "[encoded data removed]",
            "text/plain": [
              "<Figure size 432x288 with 1 Axes>"
            ]
          },
          "metadata": {
            "tags": []
          }
        }
      ]
    },
    {
      "cell_type": "code",
      "metadata": {
        "id": "8hOyRjKhazLb",
        "colab_type": "code",
        "outputId": "2cd1e64d-d542-4a52-d60c-6ab41c79ac08",
        "colab": {
          "base_uri": "https://localhost:8080/",
          "height": 33
        }
      },
      "source": [
        "di_orig = disparate_impact(test_y, 'SEXO', 6, 1, 'predicted')\n",
        "print(di_orig)"
      ],
      "execution_count": 28,
      "outputs": [
        {
          "output_type": "stream",
          "text": [
            "0.7747270981335973\n"
          ],
          "name": "stdout"
        }
      ]
    },
    {
      "cell_type": "code",
      "metadata": {
        "id": "DskvHKGvazLd",
        "colab_type": "code",
        "outputId": "14d48863-bf27-41dc-c68f-56104f511875",
        "colab": {
          "base_uri": "https://localhost:8080/",
          "height": 270
        }
      },
      "source": [
        "plt.figure()\n",
        "plt.ylim([0, 1.5])\n",
        "plt.xlim([-1, 1])\n",
        "plt.axhspan(0.8, 1.2, facecolor='green', alpha=0.15, label='Fair')\n",
        "plt.axhspan(0, 0.8, facecolor='red', alpha=0.15, label='Bias')\n",
        "plt.bar(0, di_orig, align='center', label='original', color='grey')\n",
        "plt.xticks([])\n",
        "plt.title('Disparate Impact')\n",
        "plt.legend()\n",
        "plt.show()"
      ],
      "execution_count": 29,
      "outputs": [
        {
          "output_type": "display_data",
          "data": {
            "image/png": "[encoded data removed]",
            "text/plain": [
              "<Figure size 432x288 with 1 Axes>"
            ]
          },
          "metadata": {
            "tags": []
          }
        }
      ]
    },
    {
      "cell_type": "code",
      "metadata": {
        "id": "n0hzoygFazLf",
        "colab_type": "code",
        "outputId": "65e4ec51-d593-40c9-a994-985aaf721804",
        "colab": {
          "base_uri": "https://localhost:8080/",
          "height": 33
        }
      },
      "source": [
        "eod_orig = equal_opportunity_difference(test_y,'SEXO', 6, 1,'SALNETO', 'predicted')\n",
        "print(eod_orig)"
      ],
      "execution_count": 30,
      "outputs": [
        {
          "output_type": "stream",
          "text": [
            "-0.03449446640138787\n"
          ],
          "name": "stdout"
        }
      ]
    },
    {
      "cell_type": "code",
      "metadata": {
        "id": "TprD7wUAazLh",
        "colab_type": "code",
        "outputId": "88f92e26-4748-45dc-8362-b129fe646a81",
        "colab": {
          "base_uri": "https://localhost:8080/",
          "height": 270
        }
      },
      "source": [
        "plt.figure()\n",
        "plt.ylim([-1, 1])\n",
        "plt.xlim([-1, 1])\n",
        "plt.axhspan(-0.1, 0.1, facecolor='green', alpha=0.15, label='Fair')\n",
        "plt.axhspan(-1, -0.1, facecolor='red', alpha=0.15, label='Bias')\n",
        "plt.bar(0, eod_orig, align='center', label='original', color='grey')\n",
        "plt.axhline(y=0, color='black', lw=0.5)\n",
        "plt.xticks([])\n",
        "plt.title('Equal Opportunity Difference')\n",
        "plt.legend()\n",
        "plt.show()"
      ],
      "execution_count": 31,
      "outputs": [
        {
          "output_type": "display_data",
          "data": {
            "image/png": "[encoded data removed]",
            "text/plain": [
              "<Figure size 432x288 with 1 Axes>"
            ]
          },
          "metadata": {
            "tags": []
          }
        }
      ]
    },
    {
      "cell_type": "code",
      "metadata": {
        "id": "bns0Wlp6azLj",
        "colab_type": "code",
        "outputId": "e5351330-fc44-45ff-e001-a191cd145c52",
        "colab": {
          "base_uri": "https://localhost:8080/",
          "height": 33
        }
      },
      "source": [
        "aod_orig = average_odds_difference(test_y, 'SEXO', 6, 1, 'SALNETO', 'predicted')\n",
        "print(aod_orig)"
      ],
      "execution_count": 32,
      "outputs": [
        {
          "output_type": "stream",
          "text": [
            "-0.09823008980490078\n"
          ],
          "name": "stdout"
        }
      ]
    },
    {
      "cell_type": "code",
      "metadata": {
        "id": "djFjUuqxazLl",
        "colab_type": "code",
        "outputId": "7a353c12-5dd0-45a5-be71-c83725819f05",
        "colab": {
          "base_uri": "https://localhost:8080/",
          "height": 270
        }
      },
      "source": [
        "plt.figure()\n",
        "plt.ylim([-1, 1])\n",
        "plt.xlim([-1, 1])\n",
        "plt.axhspan(-0.1, 0.1, facecolor='green', alpha=0.15, label='Fair')\n",
        "plt.axhspan(-1, -0.1, facecolor='red', alpha=0.15, label='Bias')\n",
        "plt.bar(0, aod_orig, align='center', label='original', color='grey')\n",
        "plt.axhline(y=0, color='black', lw=0.5)\n",
        "plt.xticks([])\n",
        "plt.title('Average Odds Difference')\n",
        "plt.legend()\n",
        "plt.show()"
      ],
      "execution_count": 33,
      "outputs": [
        {
          "output_type": "display_data",
          "data": {
            "image/png": "[encoded data removed]",
            "text/plain": [
              "<Figure size 432x288 with 1 Axes>"
            ]
          },
          "metadata": {
            "tags": []
          }
        }
      ]
    },
    {
      "cell_type": "markdown",
      "metadata": {
        "id": "un0f8VNaazLm",
        "colab_type": "text"
      },
      "source": [
        "2 out of 4 metrics show that the model has learnt the bias present in the data and is making discriminatory predictions.\n",
        "\n",
        "## Bias Mitigation using Uniform Sampling\n",
        "\n",
        "Here we implement a method for bias mitigation called uniform sampling, proposed in the paper below. The idea is to calculate a set of weighs that would make the dataset fairer. Then we upsample the classes with weigh greater than 1 and downsample the rest. This has a very natural interpretation:\n",
        "\n",
        "In our example we have seen that we have more females with low salaries than men. The strategy is to:\n",
        "- upsample (weighs > 1): females with high income and males with low income\n",
        "- downsample (weighs < 1): males with high income and females with low income\n",
        "\n",
        "By doing this we are trying to balance the dataset in terms of fairness and thus helping mitigate the bias.\n",
        "\n",
        "_Source:_ [Kamiran, F., & Calders, T. (2012). Data preprocessing techniques for classification without discrimination. Knowledge and Information Systems, 33(1), 1-33.](https://link.springer.com/article/10.1007/s10115-011-0463-8)"
      ]
    },
    {
      "cell_type": "code",
      "metadata": {
        "id": "n4ShITpLazLm",
        "colab_type": "code",
        "colab": {}
      },
      "source": [
        "def get_weighs(df, protected_col, protected_val, unprotected_val, Class):\n",
        "    '''Obtain the weighs by means of the reweigh method.\n",
        "    input:\n",
        "        df: pandas DataFrame object\n",
        "        protected_col: colum with the protected attribute\n",
        "        protected_val: protected attribute label\n",
        "        Class: name of the column with the coded classes as \n",
        "               1 (favorable), 0 (unfavorable)\n",
        "    otput:\n",
        "        weighs values dictionary'''\n",
        "    \n",
        "    p_protected = sum(df[protected_col] == protected_val)/len(df)\n",
        "    p_class = sum(df[Class] == 1)/len(df)\n",
        "    \n",
        "    at1 = df[df[protected_col] == protected_val]\n",
        "    at2 = df[df[protected_col] == unprotected_val]\n",
        "    sb = sum(at1[Class] == 1)\n",
        "    sd = sum(at2[Class] == 1)\n",
        "    p_observed = sb/len(df)\n",
        "    p_observed2 = sd/len(df)\n",
        "    \n",
        "    res_P_F = (p_protected * p_class)/p_observed\n",
        "    res_P_D = (p_protected * (1-p_class))/((len(at1)/len(df))-p_observed)\n",
        "    res_NP_F = ((1-p_protected) * p_class)/p_observed2\n",
        "    res_NP_D = ((1-p_protected) * (1-p_class))/((len(at2)/len(df))-p_observed2)\n",
        "    return({'protegido_fav':res_P_F,'protegido_desf':res_P_D,'nprotegido_fav':res_NP_F,'nprotegido_desf':res_NP_D})"
      ],
      "execution_count": 0,
      "outputs": []
    },
    {
      "cell_type": "code",
      "metadata": {
        "id": "y5wY5TJ-azLo",
        "colab_type": "code",
        "colab": {}
      },
      "source": [
        "def mk_US_df(df,protected_col, protected_val,unprotected_val, Class):\n",
        "    '''Resample the different subsets of data using uniform sampling.\n",
        "    input:\n",
        "        df: pandas DataFrame object\n",
        "        protected_col: colum with the protected attribute\n",
        "        protected_val: protected attribute label\n",
        "        unprotected_val: unprotected attribute label\n",
        "        Class: name of the column with the coded classes as \n",
        "               1 (favorable), 0 (unfavorable)\n",
        "    otput:\n",
        "        resampled pandas DataFrame object'''\n",
        "    weighs = get_weighs(df,protected_col, protected_val,unprotected_val, Class)\n",
        "    DP = df.loc[(df[protected_col] == protected_val) & (df[Class] == 1)]\n",
        "    DN = df.loc[(df[protected_col] == protected_val) & (df[Class] == 0)]\n",
        "    FP = df.loc[(df[protected_col] == unprotected_val) & (df[Class] == 1)]\n",
        "    FN = df.loc[(df[protected_col] == unprotected_val) & (df[Class] == 0)]\n",
        "    ssize_DP = round(weighs['protegido_fav'] * len(DP))\n",
        "    ssize_DN = round(weighs['protegido_desf'] * len(DN))\n",
        "    ssize_FP = round(weighs['nprotegido_fav'] * len(FP))\n",
        "    ssize_FN = round(weighs['nprotegido_desf'] * len(FN))\n",
        "    df_1 = DP.sample(n=ssize_DP, replace = True, random_state = 1)\n",
        "    df_2 = DN.sample(n=ssize_DN, replace = True, random_state = 1)\n",
        "    df_3 = FP.sample(n=ssize_FP, replace = True, random_state = 1)\n",
        "    df_4 = FN.sample(n=ssize_FN, replace = True, random_state = 1)\n",
        "    frames = [df_1,df_2,df_3,df_4]\n",
        "    df = pd.concat(frames)\n",
        "    return(df)"
      ],
      "execution_count": 0,
      "outputs": []
    },
    {
      "cell_type": "code",
      "metadata": {
        "id": "I3NVZXc5azLq",
        "colab_type": "code",
        "outputId": "db5f6230-6a8c-4f0b-dc9e-3da885e0c5c2",
        "colab": {
          "base_uri": "https://localhost:8080/",
          "height": 244
        }
      },
      "source": [
        "train_data = train_x\n",
        "train_data['SEXO'] = train_y['SEXO']\n",
        "train_data['SALNETO'] = train_y['SALNETO']\n",
        "\n",
        "transformed_data = mk_US_df(train_data,'SEXO', 6, 1, 'SALNETO')\n",
        "transformed_data.head()"
      ],
      "execution_count": 36,
      "outputs": [
        {
          "output_type": "execute_result",
          "data": {
            "text/html": [
              "<div>\n",
              "<style scoped>\n",
              "    .dataframe tbody tr th:only-of-type {\n",
              "        vertical-align: middle;\n",
              "    }\n",
              "\n",
              "    .dataframe tbody tr th {\n",
              "        vertical-align: top;\n",
              "    }\n",
              "\n",
              "    .dataframe thead th {\n",
              "        text-align: right;\n",
              "    }\n",
              "</style>\n",
              "<table border=\"1\" class=\"dataframe\">\n",
              "  <thead>\n",
              "    <tr style=\"text-align: right;\">\n",
              "      <th></th>\n",
              "      <th>ANOANTI</th>\n",
              "      <th>MESANTI</th>\n",
              "      <th>FIJODISM</th>\n",
              "      <th>FIJODISD</th>\n",
              "      <th>VAL</th>\n",
              "      <th>VAN</th>\n",
              "      <th>PUENTES</th>\n",
              "      <th>JAP</th>\n",
              "      <th>HEXTRA</th>\n",
              "      <th>DRELABM</th>\n",
              "      <th>DSIESPM1</th>\n",
              "      <th>DSIESPM2</th>\n",
              "      <th>DRELABAM</th>\n",
              "      <th>DRELABAD</th>\n",
              "      <th>DSIESPA1</th>\n",
              "      <th>DSIESPA2</th>\n",
              "      <th>DSIESPA3</th>\n",
              "      <th>DSIESPA4</th>\n",
              "      <th>ANOS2</th>\n",
              "      <th>JSP</th>\n",
              "      <th>1_x</th>\n",
              "      <th>2_x</th>\n",
              "      <th>3_x</th>\n",
              "      <th>4_x</th>\n",
              "      <th>5_x</th>\n",
              "      <th>6_x</th>\n",
              "      <th>7_x</th>\n",
              "      <th>B0_x</th>\n",
              "      <th>C1</th>\n",
              "      <th>C2</th>\n",
              "      <th>C3</th>\n",
              "      <th>C4</th>\n",
              "      <th>C5</th>\n",
              "      <th>C6</th>\n",
              "      <th>C7</th>\n",
              "      <th>C8</th>\n",
              "      <th>D0_x</th>\n",
              "      <th>E0_x</th>\n",
              "      <th>F0_x</th>\n",
              "      <th>G1</th>\n",
              "      <th>...</th>\n",
              "      <th>E0_y</th>\n",
              "      <th>F0_y</th>\n",
              "      <th>G0</th>\n",
              "      <th>H0</th>\n",
              "      <th>I0_y</th>\n",
              "      <th>J0_y</th>\n",
              "      <th>K0_y</th>\n",
              "      <th>L0_y</th>\n",
              "      <th>M0_y</th>\n",
              "      <th>N0_y</th>\n",
              "      <th>O0_y</th>\n",
              "      <th>P0_y</th>\n",
              "      <th>0_y</th>\n",
              "      <th>1_x</th>\n",
              "      <th>1_y</th>\n",
              "      <th>2_x</th>\n",
              "      <th>3</th>\n",
              "      <th>4</th>\n",
              "      <th>5</th>\n",
              "      <th>6_y</th>\n",
              "      <th>7_y</th>\n",
              "      <th>8</th>\n",
              "      <th>1_x</th>\n",
              "      <th>2_y</th>\n",
              "      <th>1_y</th>\n",
              "      <th>2</th>\n",
              "      <th>1_x</th>\n",
              "      <th>6_x</th>\n",
              "      <th>1_y</th>\n",
              "      <th>6_y</th>\n",
              "      <th>1_x</th>\n",
              "      <th>6_x</th>\n",
              "      <th>1_y</th>\n",
              "      <th>6_y</th>\n",
              "      <th>1_x</th>\n",
              "      <th>6_x</th>\n",
              "      <th>1_y</th>\n",
              "      <th>6_y</th>\n",
              "      <th>SEXO</th>\n",
              "      <th>SALNETO</th>\n",
              "    </tr>\n",
              "  </thead>\n",
              "  <tbody>\n",
              "    <tr>\n",
              "      <th>159291</th>\n",
              "      <td>9</td>\n",
              "      <td>6</td>\n",
              "      <td>0</td>\n",
              "      <td>0</td>\n",
              "      <td>0</td>\n",
              "      <td>31</td>\n",
              "      <td>0</td>\n",
              "      <td>1769</td>\n",
              "      <td>0</td>\n",
              "      <td>31</td>\n",
              "      <td>0</td>\n",
              "      <td>0</td>\n",
              "      <td>12</td>\n",
              "      <td>0</td>\n",
              "      <td>0</td>\n",
              "      <td>0</td>\n",
              "      <td>0</td>\n",
              "      <td>0</td>\n",
              "      <td>3</td>\n",
              "      <td>40.0</td>\n",
              "      <td>0</td>\n",
              "      <td>0</td>\n",
              "      <td>0</td>\n",
              "      <td>0</td>\n",
              "      <td>1</td>\n",
              "      <td>0</td>\n",
              "      <td>0</td>\n",
              "      <td>0</td>\n",
              "      <td>0</td>\n",
              "      <td>0</td>\n",
              "      <td>0</td>\n",
              "      <td>0</td>\n",
              "      <td>0</td>\n",
              "      <td>0</td>\n",
              "      <td>0</td>\n",
              "      <td>0</td>\n",
              "      <td>0</td>\n",
              "      <td>0</td>\n",
              "      <td>0</td>\n",
              "      <td>0</td>\n",
              "      <td>...</td>\n",
              "      <td>0</td>\n",
              "      <td>0</td>\n",
              "      <td>0</td>\n",
              "      <td>0</td>\n",
              "      <td>0</td>\n",
              "      <td>0</td>\n",
              "      <td>0</td>\n",
              "      <td>0</td>\n",
              "      <td>0</td>\n",
              "      <td>0</td>\n",
              "      <td>0</td>\n",
              "      <td>0</td>\n",
              "      <td>1</td>\n",
              "      <td>0</td>\n",
              "      <td>0</td>\n",
              "      <td>0</td>\n",
              "      <td>0</td>\n",
              "      <td>0</td>\n",
              "      <td>0</td>\n",
              "      <td>1</td>\n",
              "      <td>0</td>\n",
              "      <td>0</td>\n",
              "      <td>1</td>\n",
              "      <td>0</td>\n",
              "      <td>1</td>\n",
              "      <td>0</td>\n",
              "      <td>0</td>\n",
              "      <td>1</td>\n",
              "      <td>0</td>\n",
              "      <td>1</td>\n",
              "      <td>0</td>\n",
              "      <td>1</td>\n",
              "      <td>0</td>\n",
              "      <td>1</td>\n",
              "      <td>0</td>\n",
              "      <td>1</td>\n",
              "      <td>0</td>\n",
              "      <td>1</td>\n",
              "      <td>6</td>\n",
              "      <td>1.0</td>\n",
              "    </tr>\n",
              "    <tr>\n",
              "      <th>34824</th>\n",
              "      <td>9</td>\n",
              "      <td>4</td>\n",
              "      <td>0</td>\n",
              "      <td>0</td>\n",
              "      <td>0</td>\n",
              "      <td>30</td>\n",
              "      <td>0</td>\n",
              "      <td>1800</td>\n",
              "      <td>0</td>\n",
              "      <td>31</td>\n",
              "      <td>0</td>\n",
              "      <td>0</td>\n",
              "      <td>12</td>\n",
              "      <td>0</td>\n",
              "      <td>0</td>\n",
              "      <td>0</td>\n",
              "      <td>0</td>\n",
              "      <td>0</td>\n",
              "      <td>3</td>\n",
              "      <td>40.0</td>\n",
              "      <td>0</td>\n",
              "      <td>1</td>\n",
              "      <td>0</td>\n",
              "      <td>0</td>\n",
              "      <td>0</td>\n",
              "      <td>0</td>\n",
              "      <td>0</td>\n",
              "      <td>0</td>\n",
              "      <td>0</td>\n",
              "      <td>0</td>\n",
              "      <td>0</td>\n",
              "      <td>0</td>\n",
              "      <td>0</td>\n",
              "      <td>0</td>\n",
              "      <td>0</td>\n",
              "      <td>0</td>\n",
              "      <td>0</td>\n",
              "      <td>0</td>\n",
              "      <td>0</td>\n",
              "      <td>0</td>\n",
              "      <td>...</td>\n",
              "      <td>0</td>\n",
              "      <td>0</td>\n",
              "      <td>1</td>\n",
              "      <td>0</td>\n",
              "      <td>0</td>\n",
              "      <td>0</td>\n",
              "      <td>0</td>\n",
              "      <td>0</td>\n",
              "      <td>0</td>\n",
              "      <td>0</td>\n",
              "      <td>0</td>\n",
              "      <td>0</td>\n",
              "      <td>1</td>\n",
              "      <td>0</td>\n",
              "      <td>0</td>\n",
              "      <td>0</td>\n",
              "      <td>0</td>\n",
              "      <td>0</td>\n",
              "      <td>1</td>\n",
              "      <td>0</td>\n",
              "      <td>0</td>\n",
              "      <td>0</td>\n",
              "      <td>1</td>\n",
              "      <td>0</td>\n",
              "      <td>1</td>\n",
              "      <td>0</td>\n",
              "      <td>0</td>\n",
              "      <td>1</td>\n",
              "      <td>0</td>\n",
              "      <td>1</td>\n",
              "      <td>0</td>\n",
              "      <td>1</td>\n",
              "      <td>0</td>\n",
              "      <td>1</td>\n",
              "      <td>0</td>\n",
              "      <td>1</td>\n",
              "      <td>0</td>\n",
              "      <td>1</td>\n",
              "      <td>6</td>\n",
              "      <td>1.0</td>\n",
              "    </tr>\n",
              "    <tr>\n",
              "      <th>140415</th>\n",
              "      <td>5</td>\n",
              "      <td>4</td>\n",
              "      <td>0</td>\n",
              "      <td>0</td>\n",
              "      <td>0</td>\n",
              "      <td>30</td>\n",
              "      <td>0</td>\n",
              "      <td>1426</td>\n",
              "      <td>0</td>\n",
              "      <td>31</td>\n",
              "      <td>0</td>\n",
              "      <td>0</td>\n",
              "      <td>12</td>\n",
              "      <td>0</td>\n",
              "      <td>19</td>\n",
              "      <td>0</td>\n",
              "      <td>0</td>\n",
              "      <td>1</td>\n",
              "      <td>3</td>\n",
              "      <td>31.0</td>\n",
              "      <td>0</td>\n",
              "      <td>0</td>\n",
              "      <td>0</td>\n",
              "      <td>0</td>\n",
              "      <td>1</td>\n",
              "      <td>0</td>\n",
              "      <td>0</td>\n",
              "      <td>0</td>\n",
              "      <td>0</td>\n",
              "      <td>0</td>\n",
              "      <td>0</td>\n",
              "      <td>0</td>\n",
              "      <td>0</td>\n",
              "      <td>0</td>\n",
              "      <td>0</td>\n",
              "      <td>0</td>\n",
              "      <td>0</td>\n",
              "      <td>0</td>\n",
              "      <td>0</td>\n",
              "      <td>0</td>\n",
              "      <td>...</td>\n",
              "      <td>0</td>\n",
              "      <td>0</td>\n",
              "      <td>0</td>\n",
              "      <td>1</td>\n",
              "      <td>0</td>\n",
              "      <td>0</td>\n",
              "      <td>0</td>\n",
              "      <td>0</td>\n",
              "      <td>0</td>\n",
              "      <td>0</td>\n",
              "      <td>0</td>\n",
              "      <td>0</td>\n",
              "      <td>1</td>\n",
              "      <td>0</td>\n",
              "      <td>0</td>\n",
              "      <td>0</td>\n",
              "      <td>0</td>\n",
              "      <td>0</td>\n",
              "      <td>0</td>\n",
              "      <td>0</td>\n",
              "      <td>1</td>\n",
              "      <td>0</td>\n",
              "      <td>1</td>\n",
              "      <td>0</td>\n",
              "      <td>0</td>\n",
              "      <td>1</td>\n",
              "      <td>0</td>\n",
              "      <td>1</td>\n",
              "      <td>0</td>\n",
              "      <td>1</td>\n",
              "      <td>1</td>\n",
              "      <td>0</td>\n",
              "      <td>0</td>\n",
              "      <td>1</td>\n",
              "      <td>0</td>\n",
              "      <td>1</td>\n",
              "      <td>1</td>\n",
              "      <td>0</td>\n",
              "      <td>6</td>\n",
              "      <td>1.0</td>\n",
              "    </tr>\n",
              "    <tr>\n",
              "      <th>79684</th>\n",
              "      <td>9</td>\n",
              "      <td>9</td>\n",
              "      <td>0</td>\n",
              "      <td>0</td>\n",
              "      <td>0</td>\n",
              "      <td>30</td>\n",
              "      <td>3</td>\n",
              "      <td>1700</td>\n",
              "      <td>0</td>\n",
              "      <td>31</td>\n",
              "      <td>0</td>\n",
              "      <td>0</td>\n",
              "      <td>12</td>\n",
              "      <td>0</td>\n",
              "      <td>0</td>\n",
              "      <td>0</td>\n",
              "      <td>0</td>\n",
              "      <td>0</td>\n",
              "      <td>3</td>\n",
              "      <td>37.5</td>\n",
              "      <td>0</td>\n",
              "      <td>0</td>\n",
              "      <td>1</td>\n",
              "      <td>0</td>\n",
              "      <td>0</td>\n",
              "      <td>0</td>\n",
              "      <td>0</td>\n",
              "      <td>0</td>\n",
              "      <td>0</td>\n",
              "      <td>0</td>\n",
              "      <td>0</td>\n",
              "      <td>0</td>\n",
              "      <td>0</td>\n",
              "      <td>0</td>\n",
              "      <td>0</td>\n",
              "      <td>0</td>\n",
              "      <td>0</td>\n",
              "      <td>0</td>\n",
              "      <td>0</td>\n",
              "      <td>0</td>\n",
              "      <td>...</td>\n",
              "      <td>0</td>\n",
              "      <td>0</td>\n",
              "      <td>0</td>\n",
              "      <td>0</td>\n",
              "      <td>0</td>\n",
              "      <td>0</td>\n",
              "      <td>0</td>\n",
              "      <td>0</td>\n",
              "      <td>0</td>\n",
              "      <td>0</td>\n",
              "      <td>0</td>\n",
              "      <td>0</td>\n",
              "      <td>1</td>\n",
              "      <td>0</td>\n",
              "      <td>0</td>\n",
              "      <td>0</td>\n",
              "      <td>0</td>\n",
              "      <td>0</td>\n",
              "      <td>0</td>\n",
              "      <td>0</td>\n",
              "      <td>0</td>\n",
              "      <td>1</td>\n",
              "      <td>1</td>\n",
              "      <td>0</td>\n",
              "      <td>1</td>\n",
              "      <td>0</td>\n",
              "      <td>0</td>\n",
              "      <td>1</td>\n",
              "      <td>0</td>\n",
              "      <td>1</td>\n",
              "      <td>0</td>\n",
              "      <td>1</td>\n",
              "      <td>0</td>\n",
              "      <td>1</td>\n",
              "      <td>0</td>\n",
              "      <td>1</td>\n",
              "      <td>0</td>\n",
              "      <td>1</td>\n",
              "      <td>6</td>\n",
              "      <td>1.0</td>\n",
              "    </tr>\n",
              "    <tr>\n",
              "      <th>93433</th>\n",
              "      <td>6</td>\n",
              "      <td>10</td>\n",
              "      <td>0</td>\n",
              "      <td>0</td>\n",
              "      <td>0</td>\n",
              "      <td>30</td>\n",
              "      <td>2</td>\n",
              "      <td>1840</td>\n",
              "      <td>0</td>\n",
              "      <td>31</td>\n",
              "      <td>0</td>\n",
              "      <td>0</td>\n",
              "      <td>12</td>\n",
              "      <td>0</td>\n",
              "      <td>0</td>\n",
              "      <td>0</td>\n",
              "      <td>0</td>\n",
              "      <td>0</td>\n",
              "      <td>3</td>\n",
              "      <td>40.0</td>\n",
              "      <td>0</td>\n",
              "      <td>0</td>\n",
              "      <td>0</td>\n",
              "      <td>1</td>\n",
              "      <td>0</td>\n",
              "      <td>0</td>\n",
              "      <td>0</td>\n",
              "      <td>0</td>\n",
              "      <td>1</td>\n",
              "      <td>0</td>\n",
              "      <td>0</td>\n",
              "      <td>0</td>\n",
              "      <td>0</td>\n",
              "      <td>0</td>\n",
              "      <td>0</td>\n",
              "      <td>0</td>\n",
              "      <td>0</td>\n",
              "      <td>0</td>\n",
              "      <td>0</td>\n",
              "      <td>0</td>\n",
              "      <td>...</td>\n",
              "      <td>0</td>\n",
              "      <td>0</td>\n",
              "      <td>0</td>\n",
              "      <td>0</td>\n",
              "      <td>0</td>\n",
              "      <td>0</td>\n",
              "      <td>0</td>\n",
              "      <td>0</td>\n",
              "      <td>0</td>\n",
              "      <td>0</td>\n",
              "      <td>0</td>\n",
              "      <td>0</td>\n",
              "      <td>0</td>\n",
              "      <td>1</td>\n",
              "      <td>0</td>\n",
              "      <td>0</td>\n",
              "      <td>0</td>\n",
              "      <td>1</td>\n",
              "      <td>0</td>\n",
              "      <td>0</td>\n",
              "      <td>0</td>\n",
              "      <td>0</td>\n",
              "      <td>1</td>\n",
              "      <td>0</td>\n",
              "      <td>1</td>\n",
              "      <td>0</td>\n",
              "      <td>0</td>\n",
              "      <td>1</td>\n",
              "      <td>0</td>\n",
              "      <td>1</td>\n",
              "      <td>0</td>\n",
              "      <td>1</td>\n",
              "      <td>0</td>\n",
              "      <td>1</td>\n",
              "      <td>0</td>\n",
              "      <td>1</td>\n",
              "      <td>0</td>\n",
              "      <td>1</td>\n",
              "      <td>6</td>\n",
              "      <td>1.0</td>\n",
              "    </tr>\n",
              "  </tbody>\n",
              "</table>\n",
              "<p>5 rows × 116 columns</p>\n",
              "</div>"
            ],
            "text/plain": [
              "        ANOANTI  MESANTI  FIJODISM  FIJODISD  VAL  ...  6_x  1_y  6_y  SEXO  SALNETO\n",
              "159291        9        6         0         0    0  ...    1    0    1     6      1.0\n",
              "34824         9        4         0         0    0  ...    1    0    1     6      1.0\n",
              "140415        5        4         0         0    0  ...    1    1    0     6      1.0\n",
              "79684         9        9         0         0    0  ...    1    0    1     6      1.0\n",
              "93433         6       10         0         0    0  ...    1    0    1     6      1.0\n",
              "\n",
              "[5 rows x 116 columns]"
            ]
          },
          "metadata": {
            "tags": []
          },
          "execution_count": 36
        }
      ]
    },
    {
      "cell_type": "code",
      "metadata": {
        "id": "F8ZN79R5azLr",
        "colab_type": "code",
        "colab": {}
      },
      "source": [
        "train_transformed_y = transformed_data[[\"SALNETO\",\"SEXO\"]]\n",
        "train_transformed_x = transformed_data.drop([\"SALNETO\", \"SEXO\"], axis=1)"
      ],
      "execution_count": 0,
      "outputs": []
    },
    {
      "cell_type": "markdown",
      "metadata": {
        "id": "uClqioUXazLt",
        "colab_type": "text"
      },
      "source": [
        "**Now, we propose another way to make the oversampling based on the [SMOTE](https://www.jair.org/index.php/jair/article/view/10302) generation method.**\n",
        "\n",
        "Basically, we select a random sample of the desired subset and calculate its K nearest neighbours. Then, we randomly select one of these nearest neighbours and generate a synthetic sample between them. The processed is repeated to obtain the desired number of synthetic samples."
      ]
    },
    {
      "cell_type": "code",
      "metadata": {
        "id": "q2tHxMCZazLu",
        "colab_type": "code",
        "colab": {}
      },
      "source": [
        "from scipy.spatial import distance\n",
        "import random\n",
        "\n",
        "def knn_generate(df, k, Ns, protected_col, protected_val, Class, label):\n",
        "    '''Generate synthetic data by means of the k-NN method.\n",
        "    input:\n",
        "        df: pandas DataFrame object\n",
        "        k: number of nearest neighbour\n",
        "        protected_col: colum with the protected attribute\n",
        "        protected_val: protected attribute label\n",
        "        Class: name of the column with the coded classes as \n",
        "               1 (favorable), 0 (unfavorable)\n",
        "        label: 1 (favorable), 0 (unfavorable)\n",
        "    otput:\n",
        "        resampled pandas DataFrame object'''\n",
        "    N = len(df)\n",
        "    for i in range(Ns):\n",
        "        rand_idx = random.randint(0, N)\n",
        "        sample_i = df.iloc[rand_idx]\n",
        "        euclidean_distances = df.apply(lambda row: distance.euclidean(row, sample_i), axis=1)\n",
        "        distance_frame = pd.DataFrame(data={\"dist\": euclidean_distances, \"idx\": euclidean_distances.index})\n",
        "        distance_frame.sort_values(by=\"dist\", inplace=True)\n",
        "        knn = distance_frame.iloc[0:k+1][\"idx\"]\n",
        "        knn_samples = df.loc[knn]\n",
        "        rand_nn = random.randint(1,k)\n",
        "        mean_sample = knn_samples.iloc[[0,rand_nn]].mean(axis=0)\n",
        "        df = df.append(mean_sample, ignore_index=True)\n",
        "    df[protected_col] == protected_val\n",
        "    df[Class] = label\n",
        "    return(df)"
      ],
      "execution_count": 0,
      "outputs": []
    },
    {
      "cell_type": "code",
      "metadata": {
        "id": "Sj7p0ps9azLw",
        "colab_type": "code",
        "colab": {}
      },
      "source": [
        "def mk_knnS_df(df,protected_col, protected_val,unprotected_val, Class):\n",
        "    '''Resample the different subsets of data using knn method\n",
        "    for oversampling.\n",
        "    input:\n",
        "        df: pandas DataFrame object\n",
        "        protected_col: colum with the protected attribute\n",
        "        protected_val: protected attribute label\n",
        "        unprotected_val: unprotected attribute label\n",
        "        Class: name of the column with the coded classes as \n",
        "               1 (favorable), 0 (unfavorable)\n",
        "    otput:\n",
        "        resampled pandas DataFrame object'''\n",
        "    \n",
        "    weighs = get_weighs(df,protected_col, protected_val,unprotected_val, Class)\n",
        "    DP = df.loc[(df[protected_col] == protected_val) & (df[Class] == 1)]\n",
        "    DN = df.loc[(df[protected_col] == protected_val) & (df[Class] == 0)]\n",
        "    FP = df.loc[(df[protected_col] == unprotected_val) & (df[Class] == 1)]\n",
        "    FN = df.loc[(df[protected_col] == unprotected_val) & (df[Class] == 0)]\n",
        "    ssize_DP = round(weighs['protegido_fav'] * len(DP))\n",
        "    ssize_DN = round(weighs['protegido_desf'] * len(DN))\n",
        "    ssize_FP = round(weighs['nprotegido_fav'] * len(FP))\n",
        "    ssize_FN = round(weighs['nprotegido_desf'] * len(FN))\n",
        "    df_2 = DN.sample(n=ssize_DN, replace = True, random_state = 1)\n",
        "    df_3 = FP.sample(n=ssize_FP, replace = True, random_state = 1)\n",
        "    \n",
        "    df_1 = knn_generate(DP, 3, ssize_DP - len(DP), protected_col, protected_val, Class, 1)\n",
        "    df_4 = knn_generate(FN, 3, ssize_FN - len(FN), protected_col, unprotected_val, Class, 0)\n",
        "\n",
        "    frames = [df_1,df_2,df_3,df_4]\n",
        "    df = pd.concat(frames)\n",
        "    return(df)"
      ],
      "execution_count": 0,
      "outputs": []
    },
    {
      "cell_type": "code",
      "metadata": {
        "id": "N9pqcrGjazLy",
        "colab_type": "code",
        "colab": {}
      },
      "source": [
        "# Data can be calculated with the methods above, but we will load it as we have already obtained it\n",
        "transformed_knn_data = mk_knnS_df(train_data,'SEXO', 6, 1, 'SALNETO')\n",
        "# transformed_knn_data = pd.read_csv('transformed_data.csv', sep=';', encoding='utf-8') \n",
        "\n",
        "train_transformed_knn_y = transformed_knn_data[[\"SALNETO\",\"SEXO\"]]\n",
        "train_transformed_knn_x = transformed_knn_data.drop([\"SALNETO\", \"SEXO\"], axis=1)"
      ],
      "execution_count": 0,
      "outputs": []
    },
    {
      "cell_type": "markdown",
      "metadata": {
        "id": "FoHkk9ISazL0",
        "colab_type": "text"
      },
      "source": [
        "### Comparison of metrics before applying the model\n",
        "\n",
        "As we have said, our bias mitigation method is based on achieving a fairer, less biased dataset to train a model on. Here we present our results compared to those obtained before the bias mitigation. Later we retrain our model on this dataset and discuss the results."
      ]
    },
    {
      "cell_type": "code",
      "metadata": {
        "id": "vNfv-tmcazL0",
        "colab_type": "code",
        "colab": {
          "base_uri": "https://localhost:8080/",
          "height": 50
        },
        "outputId": "a71c3a2a-4848-4733-dfae-dbab3eadf3cf"
      },
      "source": [
        "spd_pre_us = statistical_parity_difference(train_transformed_y, 'SEXO', 6, 1, 'SALNETO')\n",
        "print(spd_pre_us)\n",
        "\n",
        "spd_pre_us_knn = statistical_parity_difference(train_transformed_knn_y, 'SEXO', 6, 1, 'SALNETO')\n",
        "print(spd_pre_us_knn)"
      ],
      "execution_count": 41,
      "outputs": [
        {
          "output_type": "stream",
          "text": [
            "1.0237104572596856e-05\n",
            "1.0237104572596856e-05\n"
          ],
          "name": "stdout"
        }
      ]
    },
    {
      "cell_type": "code",
      "metadata": {
        "id": "V_svA6a7azL1",
        "colab_type": "code",
        "colab": {
          "base_uri": "https://localhost:8080/",
          "height": 270
        },
        "outputId": "e737fa86-e04a-4fbd-d018-ad9c29ceedae"
      },
      "source": [
        "import matplotlib.pyplot as plt\n",
        "plt.figure()\n",
        "plt.ylim([-1, 1])\n",
        "plt.xlim([-1, 3])\n",
        "plt.axhspan(-0.1, 0.1, facecolor='green', alpha=0.15, label='Fair')\n",
        "plt.axhspan(-1, -0.1, facecolor='red', alpha=0.15, label='Bias')\n",
        "plt.bar(0, spd_pre_orig, align='center', label='original', color='grey')\n",
        "plt.bar(1, spd_pre_us, align='center', label='Unif. Sampling', color='blue')\n",
        "plt.bar(2, spd_pre_us_knn, align='center', label='KNN Sampling', color='green')\n",
        "plt.axhline(y=0, color='black', lw=0.5)\n",
        "plt.xticks([])\n",
        "plt.title('Statistical Parity Difference')\n",
        "plt.legend()\n",
        "plt.show()"
      ],
      "execution_count": 42,
      "outputs": [
        {
          "output_type": "display_data",
          "data": {
            "image/png": "[encoded data removed]",
            "text/plain": [
              "<Figure size 432x288 with 1 Axes>"
            ]
          },
          "metadata": {
            "tags": []
          }
        }
      ]
    },
    {
      "cell_type": "code",
      "metadata": {
        "id": "TwYMtln6azL4",
        "colab_type": "code",
        "colab": {
          "base_uri": "https://localhost:8080/",
          "height": 50
        },
        "outputId": "3f552b43-f158-45da-9fbd-cbea8ee5c70b"
      },
      "source": [
        "di_pre_us = disparate_impact(train_transformed_y, 'SEXO', 6, 1, 'SALNETO')\n",
        "print(di_pre_us)\n",
        "\n",
        "di_pre_us_knn = disparate_impact(train_transformed_knn_y, 'SEXO', 6, 1, 'SALNETO')\n",
        "print(di_pre_us_knn)"
      ],
      "execution_count": 43,
      "outputs": [
        {
          "output_type": "stream",
          "text": [
            "1.0000142479878567\n",
            "1.0000142479878567\n"
          ],
          "name": "stdout"
        }
      ]
    },
    {
      "cell_type": "code",
      "metadata": {
        "id": "_H8y_9yOazL7",
        "colab_type": "code",
        "colab": {
          "base_uri": "https://localhost:8080/",
          "height": 270
        },
        "outputId": "60747dca-090a-4fb9-cdc9-c6afd32de42c"
      },
      "source": [
        "plt.figure()\n",
        "plt.ylim([0, 1.5])\n",
        "plt.xlim([-1, 3])\n",
        "plt.axhspan(0.8, 1.2, facecolor='green', alpha=0.15, label='Fair')\n",
        "plt.axhspan(0, 0.8, facecolor='red', alpha=0.15, label='Bias')\n",
        "plt.bar(0, di_pre_orig, align='center', label='original', color='grey')\n",
        "plt.bar(1, di_pre_us, align='center', label='Unif. Sampling', color='blue')\n",
        "plt.bar(2, di_pre_us_knn, align='center', label='KNN Sampling', color='green')\n",
        "plt.xticks([])\n",
        "plt.title('Disparate Impact')\n",
        "plt.legend()\n",
        "plt.show()"
      ],
      "execution_count": 44,
      "outputs": [
        {
          "output_type": "display_data",
          "data": {
            "image/png": "[encoded data removed]",
            "text/plain": [
              "<Figure size 432x288 with 1 Axes>"
            ]
          },
          "metadata": {
            "tags": []
          }
        }
      ]
    },
    {
      "cell_type": "markdown",
      "metadata": {
        "id": "8T8ZS4FxazL-",
        "colab_type": "text"
      },
      "source": [
        "Results confirm that the method is working correctly, as we get now values within the fairness range for both metrics.\n",
        "\n",
        "### Model training on modified data\n",
        "\n",
        "As we want to check whether we have been able to mitigate the bias or not, we need to compare the results obtained using the original and the transformed data. The classifier should therefore remain the same so as that comparison is not altered. For this reason a random forest classifier is trained again, this time with the data obtained after having applied the bias mitigation techniques."
      ]
    },
    {
      "cell_type": "code",
      "metadata": {
        "id": "WnWKtkHIazL-",
        "colab_type": "code",
        "colab": {
          "base_uri": "https://localhost:8080/",
          "height": 133
        },
        "outputId": "bc1d640f-af3e-48bd-91f5-879671f66076"
      },
      "source": [
        "rfc_transf = RandomForestClassifier(random_state=42, \n",
        "                                    max_features= 'auto', \n",
        "                                    max_depth = CV_rfc.best_params_['max_depth'], \n",
        "                                    n_estimators= 100, \n",
        "                                    criterion='gini')\n",
        "\n",
        "rfc_transf.fit(train_transformed_x, train_transformed_y['SALNETO'])"
      ],
      "execution_count": 45,
      "outputs": [
        {
          "output_type": "execute_result",
          "data": {
            "text/plain": [
              "RandomForestClassifier(bootstrap=True, class_weight=None, criterion='gini',\n",
              "                       max_depth=50, max_features='auto', max_leaf_nodes=None,\n",
              "                       min_impurity_decrease=0.0, min_impurity_split=None,\n",
              "                       min_samples_leaf=1, min_samples_split=2,\n",
              "                       min_weight_fraction_leaf=0.0, n_estimators=100,\n",
              "                       n_jobs=None, oob_score=False, random_state=42, verbose=0,\n",
              "                       warm_start=False)"
            ]
          },
          "metadata": {
            "tags": []
          },
          "execution_count": 45
        }
      ]
    },
    {
      "cell_type": "code",
      "metadata": {
        "id": "h-gNq_4OazMB",
        "colab_type": "code",
        "colab": {
          "base_uri": "https://localhost:8080/",
          "height": 133
        },
        "outputId": "d212b70c-2e51-400f-869c-a43fdf2a1bac"
      },
      "source": [
        "knn_rfc_transf = RandomForestClassifier(random_state=42, \n",
        "                                    max_features= 'auto', \n",
        "                                    max_depth = CV_rfc.best_params_['max_depth'], \n",
        "                                    n_estimators= 100, \n",
        "                                    criterion='gini')\n",
        "\n",
        "knn_rfc_transf.fit(train_transformed_knn_x, train_transformed_knn_y['SALNETO'])"
      ],
      "execution_count": 46,
      "outputs": [
        {
          "output_type": "execute_result",
          "data": {
            "text/plain": [
              "RandomForestClassifier(bootstrap=True, class_weight=None, criterion='gini',\n",
              "                       max_depth=50, max_features='auto', max_leaf_nodes=None,\n",
              "                       min_impurity_decrease=0.0, min_impurity_split=None,\n",
              "                       min_samples_leaf=1, min_samples_split=2,\n",
              "                       min_weight_fraction_leaf=0.0, n_estimators=100,\n",
              "                       n_jobs=None, oob_score=False, random_state=42, verbose=0,\n",
              "                       warm_start=False)"
            ]
          },
          "metadata": {
            "tags": []
          },
          "execution_count": 46
        }
      ]
    },
    {
      "cell_type": "code",
      "metadata": {
        "id": "IE6AtOOhazMC",
        "colab_type": "code",
        "colab": {
          "base_uri": "https://localhost:8080/",
          "height": 167
        },
        "outputId": "f1d46ea1-2769-4bab-8627-e11bf59c5989"
      },
      "source": [
        "predicted_salary = rfc_transf.predict(test_x)\n",
        "predicted_y = pd.DataFrame(predicted_salary)\n",
        "\n",
        "(acc_us, bal_acc_us) = eval_metrics(test_y['SALNETO'], predicted_salary)\n",
        "\n",
        "predicted_salary_knn = knn_rfc_transf.predict(test_x)\n",
        "predicted_y_knn = pd.DataFrame(predicted_salary_knn)\n",
        "\n",
        "(acc_us_knn, bal_acc_us_knn) = eval_metrics(test_y['SALNETO'], predicted_salary_knn)\n",
        "\n",
        "print(\"Random Forest with biased data (n_estimators=%i, max_depth=%i):\" % (100, CV_rfc.best_params_['max_depth']))\n",
        "print(\"    Accuracy: %s\" % acc)\n",
        "print(\"    Balanced Accuracy: %s\" % bal_acc)\n",
        "\n",
        "print(\"Random Forest (n_estimators=%i, max_depth=%i) with Uniform Sampling:\" % (100, CV_rfc.best_params_['max_depth']))\n",
        "print(\"    Accuracy: %s\" % acc_us)\n",
        "print(\"    Balanced Accuracy: %s\" % bal_acc_us)\n",
        "\n",
        "print(\"Random Forest (n_estimators=%i, max_depth=%i) with KNN Sampling:\" % (100, CV_rfc.best_params_['max_depth']))\n",
        "print(\"    Accuracy: %s\" % acc_us_knn)\n",
        "print(\"    Balanced Accuracy: %s\" % bal_acc_us_knn)"
      ],
      "execution_count": 47,
      "outputs": [
        {
          "output_type": "stream",
          "text": [
            "Random Forest with biased data (n_estimators=100, max_depth=50):\n",
            "    Accuracy: 0.8689460191513059\n",
            "    Balanced Accuracy: 0.8045029431409887\n",
            "Random Forest (n_estimators=100, max_depth=50) with Uniform Sampling:\n",
            "    Accuracy: 0.8633706561925412\n",
            "    Balanced Accuracy: 0.7950885442655774\n",
            "Random Forest (n_estimators=100, max_depth=50) with KNN Sampling:\n",
            "    Accuracy: 0.8637792525323088\n",
            "    Balanced Accuracy: 0.794654794718876\n"
          ],
          "name": "stdout"
        }
      ]
    },
    {
      "cell_type": "markdown",
      "metadata": {
        "id": "O_h2m1iwazME",
        "colab_type": "text"
      },
      "source": [
        "After retraining the model on the modified dataset we can confirm that the results we get when applying every metric previously defined have improved while the performace of the model has barely decreased ( 0.7% on accuracy and 1.75% on balanced accuracy).\n",
        "\n",
        "Notice that the test set used is exactly the same as with the unmodified data, that is, we have only modified the training data so the results are directly comparable.\n",
        "\n",
        "## After-model metrics\n"
      ]
    },
    {
      "cell_type": "code",
      "metadata": {
        "id": "xA4oVKP4azME",
        "colab_type": "code",
        "colab": {}
      },
      "source": [
        "test_y['predicted_US'] = predicted_salary\n",
        "test_y['predicted_knn'] = predicted_salary_knn"
      ],
      "execution_count": 0,
      "outputs": []
    },
    {
      "cell_type": "code",
      "metadata": {
        "id": "D1CMdFCAazMG",
        "colab_type": "code",
        "colab": {
          "base_uri": "https://localhost:8080/",
          "height": 50
        },
        "outputId": "21254e2b-d56b-4175-8c20-e0eac07632d4"
      },
      "source": [
        "spd_us = statistical_parity_difference(test_y, 'SEXO', 6, 1, 'predicted_US')\n",
        "print(spd_us)\n",
        "\n",
        "spd_knn = statistical_parity_difference(test_y, 'SEXO', 6, 1, 'predicted_knn')\n",
        "print(spd_knn)"
      ],
      "execution_count": 49,
      "outputs": [
        {
          "output_type": "stream",
          "text": [
            "-0.1656587378709885\n",
            "-0.15887263831446796\n"
          ],
          "name": "stdout"
        }
      ]
    },
    {
      "cell_type": "code",
      "metadata": {
        "id": "jdVZ6KhaazMH",
        "colab_type": "code",
        "colab": {
          "base_uri": "https://localhost:8080/",
          "height": 270
        },
        "outputId": "8b6005b4-3e9f-4aad-f80d-f3cd5ee7cca8"
      },
      "source": [
        "import matplotlib.pyplot as plt\n",
        "plt.figure()\n",
        "plt.ylim([-1, 1])\n",
        "plt.xlim([-1, 3])\n",
        "plt.axhspan(-0.1, 0.1, facecolor='green', alpha=0.15, label='Fair')\n",
        "plt.axhspan(-1, -0.1, facecolor='red', alpha=0.15, label='Bias')\n",
        "plt.bar(0, spd_orig, align='center', label='original', color='grey')\n",
        "plt.bar(1, spd_us, align='center', label='Unif. Sampling', color='blue')\n",
        "plt.bar(2, spd_knn, align='center', label='KNN Sampling', color='green')\n",
        "plt.axhline(y=0, color='black', lw=0.5)\n",
        "plt.xticks([])\n",
        "plt.title('Statistical Parity Difference')\n",
        "plt.legend()\n",
        "plt.show()"
      ],
      "execution_count": 50,
      "outputs": [
        {
          "output_type": "display_data",
          "data": {
            "image/png": "[encoded data removed]",
            "text/plain": [
              "<Figure size 432x288 with 1 Axes>"
            ]
          },
          "metadata": {
            "tags": []
          }
        }
      ]
    },
    {
      "cell_type": "code",
      "metadata": {
        "id": "RTNxDY2KazMK",
        "colab_type": "code",
        "colab": {
          "base_uri": "https://localhost:8080/",
          "height": 50
        },
        "outputId": "dd6f38ac-3818-444d-b670-365d0bde57e6"
      },
      "source": [
        "di_us = disparate_impact(test_y, 'SEXO', 6, 1, 'predicted_US')\n",
        "print(di_us)\n",
        "\n",
        "di_knn = disparate_impact(test_y, 'SEXO', 6, 1, 'predicted_knn')\n",
        "print(di_knn)"
      ],
      "execution_count": 51,
      "outputs": [
        {
          "output_type": "stream",
          "text": [
            "0.8064881668248368\n",
            "0.8141544174425943\n"
          ],
          "name": "stdout"
        }
      ]
    },
    {
      "cell_type": "code",
      "metadata": {
        "id": "KE6Na952azMM",
        "colab_type": "code",
        "colab": {
          "base_uri": "https://localhost:8080/",
          "height": 270
        },
        "outputId": "ca6fc14c-d2c4-4416-e988-e7c714f79a81"
      },
      "source": [
        "plt.figure()\n",
        "plt.ylim([0, 1.5])\n",
        "plt.xlim([-1, 3])\n",
        "plt.axhspan(0.8, 1.2, facecolor='green', alpha=0.15, label='Fair')\n",
        "plt.axhspan(0, 0.8, facecolor='red', alpha=0.15, label='Bias')\n",
        "plt.bar(0, di_orig, align='center', label='original', color='grey')\n",
        "plt.bar(1, di_us, align='center', label='Unif. Sampling', color='blue')\n",
        "plt.bar(2, di_knn, align='center', label='KNN Sampling', color='green')\n",
        "plt.xticks([])\n",
        "plt.title('Disparate Impact')\n",
        "plt.legend()\n",
        "plt.show()"
      ],
      "execution_count": 52,
      "outputs": [
        {
          "output_type": "display_data",
          "data": {
            "image/png": "[encoded data removed]",
            "text/plain": [
              "<Figure size 432x288 with 1 Axes>"
            ]
          },
          "metadata": {
            "tags": []
          }
        }
      ]
    },
    {
      "cell_type": "code",
      "metadata": {
        "id": "g8NnZ_XuazMO",
        "colab_type": "code",
        "colab": {
          "base_uri": "https://localhost:8080/",
          "height": 50
        },
        "outputId": "4f8cfb00-16cc-4eae-8dd9-53ac90e440b1"
      },
      "source": [
        "eod_us = equal_opportunity_difference(test_y,'SEXO', 6, 1,'SALNETO', 'predicted_US')\n",
        "print(eod_us)\n",
        "\n",
        "eod_knn = equal_opportunity_difference(test_y,'SEXO', 6, 1,'SALNETO', 'predicted_knn')\n",
        "print(eod_knn)"
      ],
      "execution_count": 53,
      "outputs": [
        {
          "output_type": "stream",
          "text": [
            "-0.018091486569857818\n",
            "-0.013309561094023259\n"
          ],
          "name": "stdout"
        }
      ]
    },
    {
      "cell_type": "code",
      "metadata": {
        "id": "I3XHFFFdazMP",
        "colab_type": "code",
        "colab": {
          "base_uri": "https://localhost:8080/",
          "height": 270
        },
        "outputId": "e49484e1-e526-4ab4-896a-8abc53f2fc5f"
      },
      "source": [
        "plt.figure()\n",
        "plt.ylim([-1, 1])\n",
        "plt.xlim([-1, 3])\n",
        "plt.axhspan(-0.1, 0.1, facecolor='green', alpha=0.15, label='Fair')\n",
        "plt.axhspan(-1, -0.1, facecolor='red', alpha=0.15, label='Bias')\n",
        "plt.bar(0, eod_orig, align='center', label='original', color='grey')\n",
        "plt.bar(1, eod_orig, align='center', label='Unif. Sampling', color='blue')\n",
        "plt.bar(2, eod_knn, align='center', label='KNN Sampling', color='green')\n",
        "plt.axhline(y=0, color='black', lw=0.5)\n",
        "plt.xticks([])\n",
        "plt.title('Equal Opportunity Difference')\n",
        "plt.legend()\n",
        "plt.show()"
      ],
      "execution_count": 54,
      "outputs": [
        {
          "output_type": "display_data",
          "data": {
            "image/png": "[encoded data removed]",
            "text/plain": [
              "<Figure size 432x288 with 1 Axes>"
            ]
          },
          "metadata": {
            "tags": []
          }
        }
      ]
    },
    {
      "cell_type": "code",
      "metadata": {
        "id": "BmHan3kmazMS",
        "colab_type": "code",
        "colab": {
          "base_uri": "https://localhost:8080/",
          "height": 50
        },
        "outputId": "b2e05532-f9f7-4f29-cb36-e9092d5a6cad"
      },
      "source": [
        "aod_us = average_odds_difference(test_y, 'SEXO', 6, 1, 'SALNETO', 'predicted_US')\n",
        "print(aod_us)\n",
        "\n",
        "aod_knn = average_odds_difference(test_y, 'SEXO', 6, 1, 'SALNETO', 'predicted_knn')\n",
        "print(aod_knn)"
      ],
      "execution_count": 55,
      "outputs": [
        {
          "output_type": "stream",
          "text": [
            "-0.06422015112029544\n",
            "-0.05558855885075831\n"
          ],
          "name": "stdout"
        }
      ]
    },
    {
      "cell_type": "code",
      "metadata": {
        "id": "PsDNr5y4azMV",
        "colab_type": "code",
        "colab": {
          "base_uri": "https://localhost:8080/",
          "height": 270
        },
        "outputId": "c30f2ae3-9da1-43c6-8869-482b46ecf859"
      },
      "source": [
        "plt.figure()\n",
        "plt.ylim([-1, 1])\n",
        "plt.xlim([-1, 3])\n",
        "plt.axhspan(-0.1, 0.1, facecolor='green', alpha=0.15, label='Fair')\n",
        "plt.axhspan(-1, -0.1, facecolor='red', alpha=0.15, label='Bias')\n",
        "plt.bar(0, aod_orig, align='center', label='original', color='grey')\n",
        "plt.bar(1, aod_us, align='center', label='Unif. Sampling', color='blue')\n",
        "plt.bar(2, aod_knn, align='center', label='KNN Sampling', color='green')\n",
        "plt.axhline(y=0, color='black', lw=0.5)\n",
        "plt.xticks([])\n",
        "plt.title('Average Odds Difference')\n",
        "plt.legend()\n",
        "plt.show()"
      ],
      "execution_count": 56,
      "outputs": [
        {
          "output_type": "display_data",
          "data": {
            "image/png": "[encoded data removed]",
            "text/plain": [
              "<Figure size 432x288 with 1 Axes>"
            ]
          },
          "metadata": {
            "tags": []
          }
        }
      ]
    },
    {
      "cell_type": "markdown",
      "metadata": {
        "id": "PLZAJ59MazMX",
        "colab_type": "text"
      },
      "source": [
        "All four metrics obtain better results after applying the mitigation bias techniques. 2 of them already fell within their fairness ranges, but now one more metric falls within that range and the other one is closer to it than before.\n",
        "\n",
        "Regarding the KNN Sampling method, we can see the results are slightly better than those obtained with the US Sampling one. This is due to the generation of synthetic data instead of replicating the data we already had.\n",
        "\n",
        "\n",
        "## Discussion\n",
        "\n",
        "As we can see from the figures above, we have managed to train a model that has considerably less bias and retains almost the same accuracy. We have replicated the experiment using logistic regression instead of random forest obtaining pretty much the same results, which shows that the bias is learnt regardless of the classifier used.\n",
        "\n",
        "As a society we have to move towards a less discriminative world and machine learning provides a perfect opportunity for that. Every day more and more decisions are relegated to machines, and we have to be careful with how we teach them just like we are when teaching kids at school. It is in our hands to make the machines taking important decisions concerning people's rights to be fair and guarantee that every one of us is treated fairly. Fortunately, there is an increasing volume of research in this topic and better bias mitigation algorithms are being developed, shining a bright future onto this topic."
      ]
    }
  ]
}